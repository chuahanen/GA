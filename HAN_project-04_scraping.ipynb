{
 "cells": [
  {
   "cell_type": "markdown",
   "metadata": {},
   "source": [
    "# ![](https://ga-dash.s3.amazonaws.com/production/assets/logo-9f88ae6c9c3871690e33280fcf557f33.png) Project 4: Web Scraping Job Postings\n",
    "\n",
    "## Business Case Overview\n",
    "\n",
    "You're working as a data scientist for a contracting firm that's rapidly expanding. Now that they have their most valuable employee (you!), they need to leverage data to win more contracts. Your firm offers technology and scientific solutions and wants to be competitive in the hiring market. Your principal has two main objectives:\n",
    "\n",
    "   1. Determine the industry factors that are most important in predicting the salary amounts for these data.\n",
    "   2. Determine the factors that distinguish job categories and titles from each other. For example, can required skills accurately predict job title?\n",
    "\n",
    "To limit the scope, your principal has suggested that you *focus on data-related job postings*, e.g. data scientist, data analyst, research scientist, business intelligence, and any others you might think of. You may also want to decrease the scope by *limiting your search to a single region.*\n",
    "\n",
    "Hint: Aggregators like [Indeed.com](https://www.indeed.com) regularly pool job postings from a variety of markets and industries. \n",
    "\n",
    "**Goal:** Scrape your own data from a job aggregation tool like Indeed.com in order to collect the data to best answer these two questions.\n",
    "\n",
    "---\n",
    "\n",
    "## Directions\n",
    "\n",
    "In this project you will be leveraging a variety of skills. The first will be to use the web-scraping and/or API techniques you've learned to collect data on data jobs from Indeed.com or another aggregator. Once you have collected and cleaned the data, you will use it to answer the two questions described above.\n",
    "\n",
    "\n",
    "---\n",
    "\n",
    "## Requirements\n",
    "\n",
    "1. Scrape and prepare your own data.\n",
    "\n",
    "2. **Create and compare at least two models for each section**. One of the two models should be a decision tree or ensemble model. The other can be a classifier or regression of your choosing (e.g. Ridge, logistic regression, KNN, SVM, etc).\n",
    "   - Section 1: Job Salary Trends\n",
    "   - Section 2: Job Category Factors\n",
    "\n",
    "3. Prepare a polished Jupyter Notebook with your analysis for a peer audience of data scientists. \n",
    "   - Make sure to clearly describe and label each section.\n",
    "   - Comment on your code so that others could, in theory, replicate your work.\n",
    "\n",
    "4. A brief writeup in an executive summary, written for a non-technical audience.\n",
    "   - Writeups should be at least 500-1000 words, defining any technical terms, explaining your approach, as well as any risks and limitations.\n",
    "\n",
    "#### BONUS\n",
    "\n",
    "5. Answer the salary discussion by using your model to explain the tradeoffs between detecting high vs low salary positions.\n",
    "\n",
    "6. Convert your executive summary into a public blog post of at least 500 words, in which you document your approach in a tutorial for other aspiring data scientists. Link to this in your notebook.\n",
    "\n",
    "---\n",
    "\n",
    "## Suggestions for Getting Started\n",
    "\n",
    "1. Collect data from [Indeed.com](www.indeed.com) (or another aggregator) on data-related jobs to use in predicting salary trends for your analysis.\n",
    "  - Select and parse data from *at least 1000 postings* for jobs, potentially from multiple location searches.\n",
    "2. Find out what factors most directly impact salaries (e.g. title, location, department, etc).\n",
    "  - Test, validate, and describe your models. What factors predict salary category? How do your models perform?\n",
    "3. Discover which features have the greatest importance when determining a low vs. high paying job.\n",
    "  - Your Boss is interested in what overall features hold the greatest significance.\n",
    "  - HR is interested in which SKILLS and KEY WORDS hold the greatest significance.   \n",
    "4. Author an executive summary that details the highlights of your analysis for a non-technical audience.\n",
    "5. If tackling the bonus question, try framing the salary problem as a classification problem detecting low vs. high salary positions."
   ]
  },
  {
   "cell_type": "code",
   "execution_count": 2,
   "metadata": {},
   "outputs": [],
   "source": [
    "import requests\n",
    "from bs4 import BeautifulSoup\n",
    "import os\n",
    "from selenium import webdriver\n",
    "from time import sleep"
   ]
  },
  {
   "cell_type": "code",
   "execution_count": 3,
   "metadata": {},
   "outputs": [],
   "source": [
    "import numpy as np\n",
    "import pandas as pd"
   ]
  },
  {
   "cell_type": "code",
   "execution_count": 4,
   "metadata": {},
   "outputs": [],
   "source": [
    "from selenium.webdriver.common.by import By\n",
    "from selenium.webdriver.support.ui import WebDriverWait\n",
    "from selenium.webdriver.support import expected_conditions as EC\n",
    "from selenium.common.exceptions import TimeoutException, NoSuchElementException, WebDriverException"
   ]
  },
  {
   "cell_type": "markdown",
   "metadata": {},
   "source": [
    "## indeed.com"
   ]
  },
  {
   "cell_type": "code",
   "execution_count": 4,
   "metadata": {},
   "outputs": [],
   "source": [
    "chromedriver = \"/Users/Han/Downloads/Data/Git/GA/chromedriver/chromedriver\"\n",
    "os.environ[\"webdriver.chrome.driver\"] = chromedriver\n",
    "driver = webdriver.Chrome(executable_path=chromedriver)"
   ]
  },
  {
   "cell_type": "code",
   "execution_count": 439,
   "metadata": {},
   "outputs": [],
   "source": [
    "#url = 'https://www.indeed.com/jobs?q=Data+Scientist&l=United+States&sort=date'\n",
    "url_130k = 'https://www.indeed.com/q-Data-Scientist-$130,000-l-United-States-jobs.html'\n",
    "driver.get(url_130k)\n",
    "sleep(3)\n",
    "html = driver.page_source\n",
    "soup = BeautifulSoup(html, 'lxml')"
   ]
  },
  {
   "cell_type": "code",
   "execution_count": 406,
   "metadata": {},
   "outputs": [],
   "source": [
    "scrape = pd.DataFrame(columns=['title','company','location','desc','date','salary','estimate','desired'])"
   ]
  },
  {
   "cell_type": "code",
   "execution_count": 381,
   "metadata": {},
   "outputs": [],
   "source": [
    "def getlinks_indeed():\n",
    "    for row in soup.findAll(\"a\", {\"class\" : \"turnstileLink\"}):\n",
    "        if \"/cmp/\" not in row['href']:\n",
    "            links.append(row['href'])"
   ]
  },
  {
   "cell_type": "code",
   "execution_count": 440,
   "metadata": {},
   "outputs": [],
   "source": [
    "def getinfo_indeed():\n",
    "    #convert to css format\n",
    "    css_selector = \"a[href*=\"+'\"'+href+'\"'\n",
    "    driver.find_element_by_css_selector(css_selector).click()\n",
    "    sleep(1.5)\n",
    "\n",
    "    soup1 = BeautifulSoup(driver.page_source, 'lxml')\n",
    "    title = soup1.find(\"div\", {\"id\" : \"vjs-jobinfo\"}).find(\"div\", {\"id\" : \"vjs-jobtitle\"}).text\n",
    "    company = soup1.find(\"span\", {\"id\" : \"vjs-cn\"}).text\n",
    "    location = soup1.find(\"div\", {\"id\" : \"vjs-jobinfo\"}).find(\"span\", {\"id\":\"vjs-loc\"}).text\n",
    "#     try:\n",
    "#         rating = soup1.find(\"div\", {\"id\" : \"vjs-jobinfo\"}).find(\"span\", {\"class\":\"rating\"})['style']\n",
    "#         reviews = soup1.find(\"div\", {\"id\" : \"vjs-jobinfo\"}).find(\"span\", {\"class\":\"slNoUnderline\"}).text\n",
    "#     except TypeError:\n",
    "#         rating = 0\n",
    "#         reviews = 0\n",
    "    desc = soup1.find(\"div\", {\"id\" : \"vjs-desc\"}).text\n",
    "    date = soup1.find(\"span\", {\"class\" : \"date\"}).text\n",
    "    s_test = (soup1.find(\"div\", {\"id\" : \"vjs-jobinfo\"}).find_all('span'))\n",
    "    if True in ['$' in x.text for x in s_test]:\n",
    "        salary = s_test[['$' in x.text for x in s_test].index(True)].text\n",
    "    else:\n",
    "        salary = -1\n",
    "    \n",
    "    estimate = '$13000+' #additional column for jobs using salary estimates\n",
    "    desired = []\n",
    "    for skills in soup1.find('div', {'id':'vjs-container'}).findAll('span', {'class':'experienceListItem'}):\n",
    "        desired.append(skills.text)\n",
    "\n",
    "    scrape.loc[len(scrape)] = [title, company, location, desc, date, salary, estimate, desired]"
   ]
  },
  {
   "cell_type": "code",
   "execution_count": 327,
   "metadata": {},
   "outputs": [],
   "source": [
    "#try again function\n",
    "def try_again():\n",
    "    last_page = scrape[scrape['title'] == 'Next page'].index.max()\n",
    "    scrape.drop(index=scrape.index[last_page+1:],inplace=True)"
   ]
  },
  {
   "cell_type": "code",
   "execution_count": 452,
   "metadata": {},
   "outputs": [],
   "source": [
    "for pages in range(50):\n",
    "    sleep(50)\n",
    "    html = driver.page_source\n",
    "    soup = BeautifulSoup(html, 'lxml')\n",
    "    \n",
    "    links = []\n",
    "    getlinks_indeed()\n",
    "    for href in links:\n",
    "        try:\n",
    "            getinfo_indeed()\n",
    "        \n",
    "        except WebDriverException:\n",
    "            # handles popups\n",
    "            driver.find_element_by_class_name('popover-x').click()\n",
    "            getinfo_indeed()\n",
    "            \n",
    "        except:\n",
    "            # handles incomplete loading\n",
    "            sleep(5)\n",
    "            soup = BeautifulSoup(html, 'lxml')\n",
    "            try_again()\n",
    "            links = []\n",
    "            getlinks_indeed()\n",
    "            for href in links:\n",
    "                getinfo_indeed()\n",
    "    \n",
    "    #go to next page\n",
    "    driver.find_elements_by_class_name('pn')[-1].click()\n",
    "    scrape.loc[len(scrape)] = ['Next page']*8"
   ]
  },
  {
   "cell_type": "code",
   "execution_count": null,
   "metadata": {},
   "outputs": [],
   "source": [
    "# try_again()"
   ]
  },
  {
   "cell_type": "code",
   "execution_count": 445,
   "metadata": {},
   "outputs": [
    {
     "data": {
      "text/plain": [
       "(1162, 8)"
      ]
     },
     "execution_count": 445,
     "metadata": {},
     "output_type": "execute_result"
    }
   ],
   "source": [
    "scrape.shape"
   ]
  },
  {
   "cell_type": "code",
   "execution_count": 446,
   "metadata": {
    "scrolled": false
   },
   "outputs": [
    {
     "data": {
      "text/plain": [
       "504"
      ]
     },
     "execution_count": 446,
     "metadata": {},
     "output_type": "execute_result"
    }
   ],
   "source": [
    "len(scrape[scrape[['desc','company']].duplicated()].sort_values(by='desc'))"
   ]
  },
  {
   "cell_type": "code",
   "execution_count": 450,
   "metadata": {},
   "outputs": [
    {
     "data": {
      "text/plain": [
       "658"
      ]
     },
     "execution_count": 450,
     "metadata": {},
     "output_type": "execute_result"
    }
   ],
   "source": [
    "1162-504"
   ]
  },
  {
   "cell_type": "code",
   "execution_count": 448,
   "metadata": {
    "scrolled": true
   },
   "outputs": [
    {
     "data": {
      "text/plain": [
       "(8, 8)"
      ]
     },
     "execution_count": 448,
     "metadata": {},
     "output_type": "execute_result"
    }
   ],
   "source": [
    "scrape_unique = scrape.drop(scrape[scrape[['desc','company']].duplicated()].index)\n",
    "scrape_indeed = scrape_unique[~(scrape_unique['title'] == 'Next page')]\n",
    "\n",
    "scrape_indeed[scrape_indeed['salary'] != -1].reset_index(drop=True).shape"
   ]
  },
  {
   "cell_type": "code",
   "execution_count": 451,
   "metadata": {},
   "outputs": [],
   "source": [
    "#60K: stopped at page 52 (505 rows)\n",
    "#95K: stopped at page 52 (473 rows)\n",
    "#130K: stopped at page ? (658 rows)\n",
    "# scrape_indeed.to_csv('/Users/Han/Downloads/scrape_indeed_60.csv')\n",
    "# scrape_indeed.to_csv('/Users/Han/Downloads/scrape_indeed_95.csv')\n",
    "scrape_indeed.to_csv('/Users/Han/Downloads/scrape_indeed_130.csv')"
   ]
  },
  {
   "cell_type": "markdown",
   "metadata": {},
   "source": [
    "## efinancialcareers.com"
   ]
  },
  {
   "cell_type": "code",
   "execution_count": 160,
   "metadata": {},
   "outputs": [],
   "source": [
    "#driver.close()"
   ]
  },
  {
   "cell_type": "code",
   "execution_count": 4,
   "metadata": {},
   "outputs": [],
   "source": [
    "chromedriver = \"/Users/Han/Downloads/Data/Git/GA/chromedriver/chromedriver\"\n",
    "os.environ[\"webdriver.chrome.driver\"] = chromedriver\n",
    "driver = webdriver.Chrome(executable_path=chromedriver)"
   ]
  },
  {
   "cell_type": "code",
   "execution_count": 12,
   "metadata": {},
   "outputs": [],
   "source": [
    "url = 'https://www.efinancialcareers.com/search/?q=data%20scientist&countryCode=US&currencyCode=USD&language=en&facets=*&page=1&pageSize=10&filters.salaryBand=FIRST_TIER%7CSECOND_TIER%7CTHIRD_TIER%7CFOURTH_TIER%7CFIFTH_TIER%7CSIXTH_TIER&ds=sr'\n",
    "driver.get(url)\n",
    "sleep(3)\n",
    "html = driver.page_source\n",
    "soup = BeautifulSoup(html, 'lxml')"
   ]
  },
  {
   "cell_type": "code",
   "execution_count": 20,
   "metadata": {},
   "outputs": [],
   "source": [
    "scrape = pd.DataFrame(columns=['title','company','location','desc','date','salary'])"
   ]
  },
  {
   "cell_type": "code",
   "execution_count": 25,
   "metadata": {},
   "outputs": [],
   "source": [
    "def getinfo_efc():\n",
    "    soup1 = BeautifulSoup(driver.page_source, 'lxml')\n",
    "\n",
    "    title = soup1.find('h1').text\n",
    "    company = soup1.find('li', {'class':'company'}).find('span').text\n",
    "    location = soup1.find('li', {'class':'location'}).find('span').text\n",
    "    location = location.splitlines()[-1].lstrip()\n",
    "    desc = soup1.find('section', {'class':'description'}).text + \\\n",
    "            soup1.find('li', {'class':'position'}).find('span').text\n",
    "    date = soup1.find('li', {'class':'updated'}).find('span').text\n",
    "    salary = soup1.find('li', {'class':'salary'}).find('span').text\n",
    "\n",
    "    scrape.loc[len(scrape)] = [title, company, location, desc, date, salary]"
   ]
  },
  {
   "cell_type": "code",
   "execution_count": 230,
   "metadata": {},
   "outputs": [],
   "source": [
    "# various types of formatting for special jobs/companies\n",
    "def getinfo_efc_alt():\n",
    "    soup1 = BeautifulSoup(driver.page_source, 'lxml')\n",
    "\n",
    "    title = soup1.find(['h1','h2']).text\n",
    "    company = soup1.findAll('h2')[1].text\n",
    "    company = company.splitlines()[-1].lstrip()\n",
    "    try:\n",
    "        location = soup1.find('div', {'class':'detailsvisible'}).findAll('li')[0].text\n",
    "        location = location.split(':')[-1].lstrip()\n",
    "    except:\n",
    "        location = 0\n",
    "    \n",
    "    desc = soup1.find(['div','section'], {'class':['description','job-description']}).text \n",
    "       \n",
    "    try:\n",
    "        salary = soup1.find('div', {'class':'detailsvisible'}).findAll('li')[1].text\n",
    "        salary = salary.split(':')[-1].lstrip()\n",
    "    except:\n",
    "        salary = 0\n",
    "    \n",
    "    date = 0\n",
    "    \n",
    "    scrape.loc[len(scrape)] = [title, company, location, desc, date, salary]"
   ]
  },
  {
   "cell_type": "code",
   "execution_count": 112,
   "metadata": {},
   "outputs": [],
   "source": [
    "# resume scraping from last left off page\n",
    "#url = 'https://www.efinancialcareers.com/search/?q=data%20scientist&countryCode=US&currencyCode=USD&language=en&facets=*&page=6&pageSize=10&filters.salaryBand=FIRST_TIER%7CSECOND_TIER%7CTHIRD_TIER%7CFOURTH_TIER%7CFIFTH_TIER%7CSIXTH_TIER&ds=sr'\n",
    "#driver.get(url)"
   ]
  },
  {
   "cell_type": "code",
   "execution_count": 391,
   "metadata": {},
   "outputs": [],
   "source": [
    "for pages in range(50):\n",
    "    sleep(5)\n",
    "    html = driver.page_source\n",
    "    soup = BeautifulSoup(html, 'lxml')\n",
    "    \n",
    "    for link in driver.find_elements_by_class_name('card-title-link'):\n",
    "        try:\n",
    "            link.click()\n",
    "        \n",
    "        #to handle (ignore) pop-ups\n",
    "        except WebDriverException:\n",
    "            driver.switch_to.active_element.click()\n",
    "\n",
    "        driver.switch_to.window(driver.window_handles[1])\n",
    "        sleep(5)\n",
    "        \n",
    "        try: #scrape\n",
    "            getinfo_efc()\n",
    "            driver.close()\n",
    "            \n",
    "        except AttributeError: \n",
    "            soup1 = BeautifulSoup(driver.page_source, 'lxml')\n",
    "            if soup1.find('h2').text != None:\n",
    "                getinfo_efc_alt() # to handle alternative formatting for special jobs/companies\n",
    "                driver.close()\n",
    "                \n",
    "            else:\n",
    "                sleep(5)\n",
    "                getinfo_efc()\n",
    "                driver.close()\n",
    "            \n",
    "        #switch back to main page\n",
    "        driver.switch_to.window(driver.window_handles[0])\n",
    "        sleep(0.5)\n",
    "\n",
    "    #go to next page\n",
    "    driver.find_element_by_id('searchPaginationNext-li').click()\n",
    "    scrape.loc[len(scrape)] = ['Next page']*7"
   ]
  },
  {
   "cell_type": "code",
   "execution_count": 75,
   "metadata": {},
   "outputs": [],
   "source": [
    "\n",
    "# soup1 = BeautifulSoup(driver.page_source, 'lxml')\n",
    "\n",
    "# title = soup1.find('h2').text\n",
    "# company = soup1.findAll('h2')[1].text\n",
    "# company = company.splitlines()[-1].lstrip()\n",
    "# location = soup1.find('div', {'class':'detailsvisible'}).findAll('li')[0].text\n",
    "# location = location.split(':')[-1].lstrip()\n",
    "\n",
    "\n",
    "# rating = 0\n",
    "# reviews = 0\n",
    "# desc = soup1.find('section', {'class':'description'}).text + \\\n",
    "#         soup1.find('div', {'class':'detailsvisible'}).findAll('li')[2].text\n",
    "# date = 0\n",
    "# salary = soup1.find('div', {'class':'detailsvisible'}).findAll('li')[1].text\n",
    "# salary = salary.split(':')[-1].lstrip()\n",
    "\n",
    "# test = pd.DataFrame(columns=['title','company','location','rating','reviews','desc','date','salary'])\n",
    "# test.loc[len(test)] = [title, company, location, rating, reviews, desc, date, salary]\n",
    "# test"
   ]
  },
  {
   "cell_type": "code",
   "execution_count": 231,
   "metadata": {},
   "outputs": [],
   "source": [
    "# driver.close()\n",
    "\n",
    "# #switch back to main page\n",
    "# driver.switch_to.window(driver.window_handles[0])\n",
    "# sleep(0.5)\n",
    "\n",
    "# try_again()\n",
    "# scrape.shape"
   ]
  },
  {
   "cell_type": "code",
   "execution_count": 250,
   "metadata": {},
   "outputs": [],
   "source": [
    "scrape_unique = scrape.drop(scrape[scrape[['desc','company']].duplicated()].index)\n",
    "scrape_efc = scrape_unique[~(scrape_unique['title'] == 'Next page')]"
   ]
  },
  {
   "cell_type": "code",
   "execution_count": 277,
   "metadata": {
    "scrolled": false
   },
   "outputs": [
    {
     "data": {
      "text/plain": [
       "150     £excellent + bonus + good package\n",
       "151                                 $High\n",
       "152    up to $240,000 plus bonus and bens\n",
       "153         GBP63000 - GBP73000 per annum\n",
       "154      £50,000 - £90,000 base + package\n",
       "155                               £55,000\n",
       "156         GBP55707 - GBP75707 per annum\n",
       "157              Up to GBP60000 per annum\n",
       "158                           Competitive\n",
       "159                                     0\n",
       "Name: salary, dtype: object"
      ]
     },
     "execution_count": 277,
     "metadata": {},
     "output_type": "execute_result"
    }
   ],
   "source": [
    "scrape_efc['salary'].tail(10)"
   ]
  },
  {
   "cell_type": "code",
   "execution_count": 265,
   "metadata": {
    "scrolled": false
   },
   "outputs": [
    {
     "data": {
      "text/plain": [
       "49"
      ]
     },
     "execution_count": 265,
     "metadata": {},
     "output_type": "execute_result"
    }
   ],
   "source": [
    "(x,y) = (scrape_efc.shape)\n",
    "x-sum(scrape['salary'].value_counts().head().values)"
   ]
  },
  {
   "cell_type": "code",
   "execution_count": 284,
   "metadata": {
    "scrolled": false
   },
   "outputs": [],
   "source": [
    "scrape_efc.to_csv('/Users/Han/Downloads/scrape_efc.csv')"
   ]
  },
  {
   "cell_type": "markdown",
   "metadata": {},
   "source": [
    "## simplyhired.com"
   ]
  },
  {
   "cell_type": "code",
   "execution_count": 160,
   "metadata": {},
   "outputs": [],
   "source": [
    "#driver.close()"
   ]
  },
  {
   "cell_type": "code",
   "execution_count": 292,
   "metadata": {},
   "outputs": [],
   "source": [
    "chromedriver = \"/Users/Han/Downloads/Data/Git/GA/chromedriver/chromedriver\"\n",
    "os.environ[\"webdriver.chrome.driver\"] = chromedriver\n",
    "driver = webdriver.Chrome(executable_path=chromedriver)"
   ]
  },
  {
   "cell_type": "code",
   "execution_count": 293,
   "metadata": {},
   "outputs": [],
   "source": [
    "url = 'https://www.simplyhired.com/search?q=data+scientist&l=united+states&mip=%2460%2C000&pp=&'\n",
    "driver.get(url)\n",
    "sleep(3)\n",
    "html = driver.page_source\n",
    "soup = BeautifulSoup(html, 'lxml')"
   ]
  },
  {
   "cell_type": "code",
   "execution_count": 294,
   "metadata": {},
   "outputs": [],
   "source": [
    "scrape = pd.DataFrame(columns=['title','company','location','desc','date','salary','estimate'])"
   ]
  },
  {
   "cell_type": "code",
   "execution_count": 295,
   "metadata": {},
   "outputs": [],
   "source": [
    "def getlinks_simplyhired():\n",
    "    for row in soup.findAll(\"a\", {\"class\" : \"card-link\"}):\n",
    "         links.append(\"https://www.simplyhired.com\"+row['href'])"
   ]
  },
  {
   "cell_type": "code",
   "execution_count": 296,
   "metadata": {},
   "outputs": [],
   "source": [
    "def getinfo_simplyhired(i):\n",
    "    soup1 = BeautifulSoup(driver1.page_source, 'lxml')\n",
    "\n",
    "    title = soup1.find('h1', {'itemprop' : 'title'}).text\n",
    "    company = soup1.find('span', {'class':'company'}).text\n",
    "    location = soup1.find('span', {'class':'location'}).text\n",
    "    desc = soup1.find('div', {'class':'viewjob-description'}).text\n",
    "    date = soup.findAll('span', {'class':'jobposting-timestamp'})[i].find('time')['datetime']\n",
    "    salary = soup.findAll('span', {'class':'jobposting-salary'})[i]['data-salary']\n",
    "    estimate = soup.findAll('span', {'class':'jobposting-salary'})[i]['data-est']\n",
    "\n",
    "    scrape.loc[len(scrape)] = [title, company, location, desc, date, salary, estimate]"
   ]
  },
  {
   "cell_type": "code",
   "execution_count": 297,
   "metadata": {},
   "outputs": [],
   "source": [
    "#try again function\n",
    "def try_again():\n",
    "        last_page = scrape[scrape['title'] == 'Next page'].index.max()\n",
    "        scrape.drop(index=scrape.index[last_page+1:],inplace=True)"
   ]
  },
  {
   "cell_type": "code",
   "execution_count": 390,
   "metadata": {},
   "outputs": [],
   "source": [
    "for pages in range(100):\n",
    "    html = driver.page_source\n",
    "    soup = BeautifulSoup(html, 'lxml')\n",
    "    \n",
    "    links = []\n",
    "    getlinks_simplyhired()\n",
    "    for i, job in enumerate(links):\n",
    "        driver1 = webdriver.Chrome(executable_path=chromedriver)\n",
    "        driver1.get(job)\n",
    "        sleep(3)\n",
    "    \n",
    "        getinfo_simplyhired(i)\n",
    "        driver1.close()\n",
    "  \n",
    "    #go to next page\n",
    "    driver.find_element_by_class_name('next-pagination').click()\n",
    "    scrape.loc[len(scrape)] = ['Next page']*7\n",
    "    sleep(3)"
   ]
  },
  {
   "cell_type": "code",
   "execution_count": 311,
   "metadata": {},
   "outputs": [
    {
     "data": {
      "text/plain": [
       "(1042, 7)"
      ]
     },
     "execution_count": 311,
     "metadata": {},
     "output_type": "execute_result"
    }
   ],
   "source": [
    "scrape.shape"
   ]
  },
  {
   "cell_type": "code",
   "execution_count": 312,
   "metadata": {},
   "outputs": [
    {
     "data": {
      "text/plain": [
       "77"
      ]
     },
     "execution_count": 312,
     "metadata": {},
     "output_type": "execute_result"
    }
   ],
   "source": [
    "len(scrape[scrape[['desc','company']].duplicated()].sort_values(by='desc'))"
   ]
  },
  {
   "cell_type": "code",
   "execution_count": 320,
   "metadata": {},
   "outputs": [
    {
     "data": {
      "text/plain": [
       "(964, 7)"
      ]
     },
     "execution_count": 320,
     "metadata": {},
     "output_type": "execute_result"
    }
   ],
   "source": [
    "scrape_unique = scrape.drop(scrape[scrape[['desc','company']].duplicated()].index)\n",
    "scrape_simplyhired = scrape_unique[~(scrape_unique['title'] == 'Next page')]\n",
    "\n",
    "scrape_simplyhired.shape"
   ]
  },
  {
   "cell_type": "code",
   "execution_count": 321,
   "metadata": {
    "scrolled": true
   },
   "outputs": [
    {
     "data": {
      "text/plain": [
       "(18, 7)"
      ]
     },
     "execution_count": 321,
     "metadata": {},
     "output_type": "execute_result"
    }
   ],
   "source": [
    "scrape_simplyhired[scrape_simplyhired['estimate'] == 'false'].shape"
   ]
  },
  {
   "cell_type": "code",
   "execution_count": 322,
   "metadata": {},
   "outputs": [],
   "source": [
    "#stopped at page 50 (964 rows)\n",
    "scrape_simplyhired.to_csv('/Users/Han/Downloads/scrape_simplyhired.csv')"
   ]
  },
  {
   "cell_type": "code",
   "execution_count": 255,
   "metadata": {},
   "outputs": [],
   "source": [
    "# try_again()"
   ]
  },
  {
   "cell_type": "code",
   "execution_count": 235,
   "metadata": {},
   "outputs": [],
   "source": [
    "# for i, job in enumerate(links[:2]):\n",
    "#     chromedriver = \"/Users/Han/Downloads/Data/Git/GA/chromedriver/chromedriver\"\n",
    "#     os.environ[\"webdriver.chrome.driver\"] = chromedriver\n",
    "#     driver1 = webdriver.Chrome(executable_path=chromedriver)\n",
    "#     driver1.get(job)\n",
    "#     sleep(3)\n",
    "    \n",
    "#     soup1 = BeautifulSoup(driver1.page_source, 'lxml')\n",
    "#     print(soup1.find('h1', {'itemprop' : 'title'}).text)\n",
    "#     print(soup1.find('span', {'class':'company'}).text)\n",
    "#     print(soup1.find('span', {'class':'location'}).text)\n",
    "#     print(soup1.find('div', {'class':'viewjob-description'}).text)\n",
    "    \n",
    "#     print(soup.findAll('span', {'class':'jobposting-salary'})[i]['data-salary'])\n",
    "#     print(soup.findAll('span', {'class':'jobposting-salary'})[i]['data-est'])\n",
    "#     print(soup.findAll('span', {'class':'jobposting-timestamp'})[i].find('time')['datetime'])\n",
    "#     driver1.close()\n",
    "#     print('---')"
   ]
  },
  {
   "cell_type": "markdown",
   "metadata": {},
   "source": [
    "# Cleaning data and merging datasets\n",
    "#### note: in the end i didnt use indeed.com's data"
   ]
  },
  {
   "cell_type": "code",
   "execution_count": 34,
   "metadata": {},
   "outputs": [],
   "source": [
    "import string"
   ]
  },
  {
   "cell_type": "code",
   "execution_count": 5,
   "metadata": {},
   "outputs": [],
   "source": [
    "# file available at 'https://www.dropbox.com/s/mh3u7zcdsabajca/scrape_simplyhired.csv?dl=0'\n",
    "simplyhired_raw = pd.read_csv('./scraped/scrape_simplyhired.csv', index_col=0)"
   ]
  },
  {
   "cell_type": "code",
   "execution_count": 6,
   "metadata": {},
   "outputs": [
    {
     "data": {
      "text/plain": [
       "(964, 7)"
      ]
     },
     "execution_count": 6,
     "metadata": {},
     "output_type": "execute_result"
    }
   ],
   "source": [
    "simplyhired_raw.shape"
   ]
  },
  {
   "cell_type": "code",
   "execution_count": 7,
   "metadata": {},
   "outputs": [],
   "source": [
    "simplyhired_raw['clean_salary'] = simplyhired_raw['salary'].str.split()"
   ]
  },
  {
   "cell_type": "code",
   "execution_count": 8,
   "metadata": {},
   "outputs": [],
   "source": [
    "simplyhired_raw['min_salary'] = simplyhired_raw['clean_salary'].apply(lambda x: float(x[0].strip('$').replace(',','')))"
   ]
  },
  {
   "cell_type": "code",
   "execution_count": 9,
   "metadata": {},
   "outputs": [],
   "source": [
    "simplyhired_raw['min_salary'] = simplyhired_raw['clean_salary'].apply(lambda x: float(x[0].strip('$').replace(',','')))\n",
    "simplyhired_raw['max_salary'] = simplyhired_raw['clean_salary'].apply(lambda x: float(x[0].strip('$').replace(',','')) if len(x) == 3 else float(x[2].strip('$').replace(',','')))\n",
    "simplyhired_raw['salary_unit'] = simplyhired_raw['clean_salary'].apply(lambda x: x[-1])\n",
    "simplyhired_raw['avg_salary'] = (simplyhired_raw['min_salary'] + simplyhired_raw['max_salary'])/2"
   ]
  },
  {
   "cell_type": "code",
   "execution_count": 10,
   "metadata": {},
   "outputs": [
    {
     "data": {
      "text/plain": [
       "array(['year', 'hour', 'month'], dtype=object)"
      ]
     },
     "execution_count": 10,
     "metadata": {},
     "output_type": "execute_result"
    }
   ],
   "source": [
    "simplyhired_raw['salary_unit'].unique()"
   ]
  },
  {
   "cell_type": "code",
   "execution_count": 11,
   "metadata": {},
   "outputs": [],
   "source": [
    "simplyhired_raw.loc[simplyhired_raw[simplyhired_raw['salary_unit'] == 'hour'].index, 'avg_salary'] =  simplyhired_raw[simplyhired_raw['salary_unit'] == 'hour']['avg_salary']*7*260\n",
    "simplyhired_raw.loc[simplyhired_raw[simplyhired_raw['salary_unit'] == 'month'].index, 'avg_salary'] = simplyhired_raw[simplyhired_raw['salary_unit'] == 'month']['avg_salary']*12"
   ]
  },
  {
   "cell_type": "code",
   "execution_count": 12,
   "metadata": {},
   "outputs": [],
   "source": [
    "# locations are clean\n",
    "# simplyhired_raw['location'].unique()"
   ]
  },
  {
   "cell_type": "code",
   "execution_count": 13,
   "metadata": {},
   "outputs": [
    {
     "data": {
      "text/html": [
       "<div>\n",
       "<style scoped>\n",
       "    .dataframe tbody tr th:only-of-type {\n",
       "        vertical-align: middle;\n",
       "    }\n",
       "\n",
       "    .dataframe tbody tr th {\n",
       "        vertical-align: top;\n",
       "    }\n",
       "\n",
       "    .dataframe thead th {\n",
       "        text-align: right;\n",
       "    }\n",
       "</style>\n",
       "<table border=\"1\" class=\"dataframe\">\n",
       "  <thead>\n",
       "    <tr style=\"text-align: right;\">\n",
       "      <th></th>\n",
       "      <th>title</th>\n",
       "      <th>company</th>\n",
       "      <th>location</th>\n",
       "      <th>desc</th>\n",
       "      <th>date</th>\n",
       "      <th>salary</th>\n",
       "      <th>estimate</th>\n",
       "      <th>clean_salary</th>\n",
       "      <th>min_salary</th>\n",
       "      <th>max_salary</th>\n",
       "      <th>salary_unit</th>\n",
       "      <th>avg_salary</th>\n",
       "    </tr>\n",
       "  </thead>\n",
       "  <tbody>\n",
       "    <tr>\n",
       "      <th>1032</th>\n",
       "      <td>Data Scientist</td>\n",
       "      <td>NaN</td>\n",
       "      <td>San Francisco, CA</td>\n",
       "      <td>Vevo is the world’s leading all-premium music ...</td>\n",
       "      <td>2018-09-11T01:57:36Z</td>\n",
       "      <td>$110,000 - $150,000 a year</td>\n",
       "      <td>True</td>\n",
       "      <td>[$110,000, -, $150,000, a, year]</td>\n",
       "      <td>110000.0</td>\n",
       "      <td>150000.0</td>\n",
       "      <td>year</td>\n",
       "      <td>130000.0</td>\n",
       "    </tr>\n",
       "  </tbody>\n",
       "</table>\n",
       "</div>"
      ],
      "text/plain": [
       "               title company           location  \\\n",
       "1032  Data Scientist     NaN  San Francisco, CA   \n",
       "\n",
       "                                                   desc                  date  \\\n",
       "1032  Vevo is the world’s leading all-premium music ...  2018-09-11T01:57:36Z   \n",
       "\n",
       "                          salary  estimate                      clean_salary  \\\n",
       "1032  $110,000 - $150,000 a year      True  [$110,000, -, $150,000, a, year]   \n",
       "\n",
       "      min_salary  max_salary salary_unit  avg_salary  \n",
       "1032    110000.0    150000.0        year    130000.0  "
      ]
     },
     "execution_count": 13,
     "metadata": {},
     "output_type": "execute_result"
    }
   ],
   "source": [
    "simplyhired_raw[simplyhired_raw['company'].isnull()]"
   ]
  },
  {
   "cell_type": "code",
   "execution_count": 14,
   "metadata": {},
   "outputs": [],
   "source": [
    "simplyhired_raw.loc[1032,'company'] = 'Vevo'"
   ]
  },
  {
   "cell_type": "code",
   "execution_count": 15,
   "metadata": {},
   "outputs": [],
   "source": [
    "simplyhired_raw['month_posted'] = pd.to_datetime(simplyhired_raw['date']).dt.month"
   ]
  },
  {
   "cell_type": "code",
   "execution_count": 48,
   "metadata": {},
   "outputs": [],
   "source": [
    "simplyhired_raw['desc_clean'] = simplyhired_raw['desc'].apply(lambda x: x.replace('\\n', '. '))"
   ]
  },
  {
   "cell_type": "code",
   "execution_count": 17,
   "metadata": {},
   "outputs": [
    {
     "data": {
      "text/plain": [
       "array(['Remote', ' CA', ' DC', ' FL', ' TN', ' NY', ' NJ', ' HI', ' WA',\n",
       "       'United States', ' MA', ' TX', ' GA', ' IL', 'California', ' NC',\n",
       "       ' VA', ' MD', ' MI', 'New York State', ' OR', 'Work at Home',\n",
       "       ' UT', 'Home Based', ' AZ', ' NV', ' OH', ' CT', ' MO', 'Indiana',\n",
       "       ' WI', ' IA', 'Georgia', ' CO', ' RI', 'Virginia', ' AL',\n",
       "       'New Jersey', ' ME', ' KY', ' PA', ' IN', 'Idaho', ' NH', ' DE',\n",
       "       ' NE', ' ID', ' NM', ' SC', ' MN', ' AR', 'Illinois', ' WV', ' AK'],\n",
       "      dtype=object)"
      ]
     },
     "execution_count": 17,
     "metadata": {},
     "output_type": "execute_result"
    }
   ],
   "source": [
    "simplyhired_raw['location'].apply(lambda x: x.split(',')[-1]).unique()"
   ]
  },
  {
   "cell_type": "code",
   "execution_count": 18,
   "metadata": {},
   "outputs": [],
   "source": [
    "simplyhired_raw.loc[simplyhired_raw[simplyhired_raw['location'] == 'California'].index, 'location'] = ' CA'\n",
    "simplyhired_raw.loc[simplyhired_raw[simplyhired_raw['location'] == 'New York State'].index, 'location'] = ' NY'\n",
    "simplyhired_raw.loc[simplyhired_raw[simplyhired_raw['location'] == 'Indiana'].index, 'location'] = ' IN'\n",
    "simplyhired_raw.loc[simplyhired_raw[simplyhired_raw['location'] == 'Georgia'].index, 'location'] = ' GA'\n",
    "simplyhired_raw.loc[simplyhired_raw[simplyhired_raw['location'] == 'Virginia'].index, 'location'] = ' VA'\n",
    "simplyhired_raw.loc[simplyhired_raw[simplyhired_raw['location'] == 'New Jersey'].index, 'location'] = ' NJ'\n",
    "simplyhired_raw.loc[simplyhired_raw[simplyhired_raw['location'] == 'Idaho'].index, 'location'] = ' ID'\n",
    "simplyhired_raw.loc[simplyhired_raw[simplyhired_raw['location'] == 'Illinois'].index, 'location'] = ' IL'"
   ]
  },
  {
   "cell_type": "code",
   "execution_count": 19,
   "metadata": {},
   "outputs": [],
   "source": [
    "others = simplyhired_raw[(simplyhired_raw['location'] == 'Remote') |(simplyhired_raw['location'] == 'United States') |\n",
    "                (simplyhired_raw['location'] == 'Work at Home') | (simplyhired_raw['location'] == 'Home Based')].index\n",
    "simplyhired_raw.loc[others, 'location'] = 'Remote'"
   ]
  },
  {
   "cell_type": "code",
   "execution_count": 20,
   "metadata": {},
   "outputs": [
    {
     "data": {
      "text/plain": [
       "array(['Remote', ' CA', ' DC', ' FL', ' TN', ' NY', ' NJ', ' HI', ' WA',\n",
       "       ' MA', ' TX', ' GA', ' IL', ' NC', ' VA', ' MD', ' MI', ' OR',\n",
       "       ' UT', ' AZ', ' NV', ' OH', ' CT', ' MO', ' IN', ' WI', ' IA',\n",
       "       ' CO', ' RI', ' AL', ' ME', ' KY', ' PA', ' ID', ' NH', ' DE',\n",
       "       ' NE', ' NM', ' SC', ' MN', ' AR', ' WV', ' AK'], dtype=object)"
      ]
     },
     "execution_count": 20,
     "metadata": {},
     "output_type": "execute_result"
    }
   ],
   "source": [
    "simplyhired_raw['location'].apply(lambda x: x.split(',')[-1]).unique()"
   ]
  },
  {
   "cell_type": "code",
   "execution_count": 21,
   "metadata": {},
   "outputs": [],
   "source": [
    "simplyhired = simplyhired_raw.drop(['desc','date','salary','estimate','clean_salary','min_salary','max_salary','salary_unit'], axis=1)"
   ]
  },
  {
   "cell_type": "code",
   "execution_count": 22,
   "metadata": {},
   "outputs": [
    {
     "data": {
      "text/html": [
       "<div>\n",
       "<style scoped>\n",
       "    .dataframe tbody tr th:only-of-type {\n",
       "        vertical-align: middle;\n",
       "    }\n",
       "\n",
       "    .dataframe tbody tr th {\n",
       "        vertical-align: top;\n",
       "    }\n",
       "\n",
       "    .dataframe thead th {\n",
       "        text-align: right;\n",
       "    }\n",
       "</style>\n",
       "<table border=\"1\" class=\"dataframe\">\n",
       "  <thead>\n",
       "    <tr style=\"text-align: right;\">\n",
       "      <th></th>\n",
       "      <th>title</th>\n",
       "      <th>company</th>\n",
       "      <th>location</th>\n",
       "      <th>avg_salary</th>\n",
       "      <th>month_posted</th>\n",
       "      <th>desc_clean</th>\n",
       "    </tr>\n",
       "  </thead>\n",
       "  <tbody>\n",
       "    <tr>\n",
       "      <th>0</th>\n",
       "      <td>Data Scientist</td>\n",
       "      <td>Crossover</td>\n",
       "      <td>Remote</td>\n",
       "      <td>100000.0</td>\n",
       "      <td>8</td>\n",
       "      <td>$ 100k USD/year. $ 50 USD/hour. . 40h/week. . ...</td>\n",
       "    </tr>\n",
       "    <tr>\n",
       "      <th>1</th>\n",
       "      <td>Researcher</td>\n",
       "      <td>Riot Games</td>\n",
       "      <td>Los Angeles, CA</td>\n",
       "      <td>70000.0</td>\n",
       "      <td>7</td>\n",
       "      <td>Riot Games was established in 2006 by entrepre...</td>\n",
       "    </tr>\n",
       "    <tr>\n",
       "      <th>2</th>\n",
       "      <td>Data Scientist</td>\n",
       "      <td>U.S. Federal Government</td>\n",
       "      <td>Washington, DC</td>\n",
       "      <td>99000.0</td>\n",
       "      <td>7</td>\n",
       "      <td>Duties. Summary. The Directorate of Digital In...</td>\n",
       "    </tr>\n",
       "    <tr>\n",
       "      <th>3</th>\n",
       "      <td>Data Scientist - Full Time</td>\n",
       "      <td>Miami HEAT</td>\n",
       "      <td>Miami, FL</td>\n",
       "      <td>96000.0</td>\n",
       "      <td>10</td>\n",
       "      <td>Description of the Position:. This position is...</td>\n",
       "    </tr>\n",
       "    <tr>\n",
       "      <th>4</th>\n",
       "      <td>Data Scientist, Routing/Dispatching</td>\n",
       "      <td>Tesla</td>\n",
       "      <td>Fremont, CA</td>\n",
       "      <td>145000.0</td>\n",
       "      <td>10</td>\n",
       "      <td>Role. . In this role, you will join a small te...</td>\n",
       "    </tr>\n",
       "  </tbody>\n",
       "</table>\n",
       "</div>"
      ],
      "text/plain": [
       "                                 title                  company  \\\n",
       "0                       Data Scientist                Crossover   \n",
       "1                           Researcher               Riot Games   \n",
       "2                       Data Scientist  U.S. Federal Government   \n",
       "3           Data Scientist - Full Time               Miami HEAT   \n",
       "4  Data Scientist, Routing/Dispatching                    Tesla   \n",
       "\n",
       "          location  avg_salary  month_posted  \\\n",
       "0           Remote    100000.0             8   \n",
       "1  Los Angeles, CA     70000.0             7   \n",
       "2   Washington, DC     99000.0             7   \n",
       "3        Miami, FL     96000.0            10   \n",
       "4      Fremont, CA    145000.0            10   \n",
       "\n",
       "                                          desc_clean  \n",
       "0  $ 100k USD/year. $ 50 USD/hour. . 40h/week. . ...  \n",
       "1  Riot Games was established in 2006 by entrepre...  \n",
       "2  Duties. Summary. The Directorate of Digital In...  \n",
       "3  Description of the Position:. This position is...  \n",
       "4  Role. . In this role, you will join a small te...  "
      ]
     },
     "execution_count": 22,
     "metadata": {},
     "output_type": "execute_result"
    }
   ],
   "source": [
    "simplyhired.head()"
   ]
  },
  {
   "cell_type": "markdown",
   "metadata": {},
   "source": [
    "## clean EFC data"
   ]
  },
  {
   "cell_type": "code",
   "execution_count": 23,
   "metadata": {},
   "outputs": [],
   "source": [
    "# file available at 'https://www.dropbox.com/s/f7grxoergtyhah4/scrape_efc.csv?dl=0'\n",
    "efc_raw = pd.read_csv('./scraped/scrape_efc.csv', index_col=0)"
   ]
  },
  {
   "cell_type": "code",
   "execution_count": 24,
   "metadata": {},
   "outputs": [],
   "source": [
    "#filter out non-US jobs\n",
    "efc_raw.drop(efc_raw.loc[121:].index, inplace= True)"
   ]
  },
  {
   "cell_type": "code",
   "execution_count": 25,
   "metadata": {},
   "outputs": [],
   "source": [
    "def salary_check(salary):\n",
    "    value = 0\n",
    "    for char in salary:\n",
    "        value += char.isnumeric()\n",
    "    return value"
   ]
  },
  {
   "cell_type": "code",
   "execution_count": 26,
   "metadata": {},
   "outputs": [],
   "source": [
    "efc_raw['salary_check'] = efc_raw['salary'].apply(salary_check)\n",
    "efc = efc_raw[(efc_raw['salary_check'] != 0) & (efc_raw['salary'] != '0')]"
   ]
  },
  {
   "cell_type": "code",
   "execution_count": 27,
   "metadata": {},
   "outputs": [
    {
     "name": "stderr",
     "output_type": "stream",
     "text": [
      "/Users/Han/anaconda3/lib/python3.6/site-packages/pandas/core/frame.py:3697: SettingWithCopyWarning: \n",
      "A value is trying to be set on a copy of a slice from a DataFrame\n",
      "\n",
      "See the caveats in the documentation: http://pandas.pydata.org/pandas-docs/stable/indexing.html#indexing-view-versus-copy\n",
      "  errors=errors)\n"
     ]
    }
   ],
   "source": [
    "efc.drop(['rating','reviews','salary_check'],axis=1,inplace=True)\n",
    "efc.reset_index(inplace=True, drop=True)"
   ]
  },
  {
   "cell_type": "code",
   "execution_count": 28,
   "metadata": {},
   "outputs": [
    {
     "name": "stdout",
     "output_type": "stream",
     "text": [
      "Financial Services Consultant - Data Analyst $55k + and bonus eligible\n",
      "200,000 to 300,000\n"
     ]
    }
   ],
   "source": [
    "# data is too dirty and I dont want to waste too much time - so manually change\n",
    "print(efc.loc[6, 'salary'])\n",
    "print(efc.loc[23, 'salary'])"
   ]
  },
  {
   "cell_type": "code",
   "execution_count": 29,
   "metadata": {},
   "outputs": [
    {
     "name": "stderr",
     "output_type": "stream",
     "text": [
      "/Users/Han/anaconda3/lib/python3.6/site-packages/pandas/core/indexing.py:189: SettingWithCopyWarning: \n",
      "A value is trying to be set on a copy of a slice from a DataFrame\n",
      "\n",
      "See the caveats in the documentation: http://pandas.pydata.org/pandas-docs/stable/indexing.html#indexing-view-versus-copy\n",
      "  self._setitem_with_indexer(indexer, value)\n",
      "/Users/Han/anaconda3/lib/python3.6/site-packages/ipykernel_launcher.py:1: SettingWithCopyWarning: \n",
      "A value is trying to be set on a copy of a slice from a DataFrame\n",
      "\n",
      "See the caveats in the documentation: http://pandas.pydata.org/pandas-docs/stable/indexing.html#indexing-view-versus-copy\n",
      "  \"\"\"Entry point for launching an IPython kernel.\n",
      "/Users/Han/anaconda3/lib/python3.6/site-packages/ipykernel_launcher.py:2: SettingWithCopyWarning: \n",
      "A value is trying to be set on a copy of a slice from a DataFrame\n",
      "\n",
      "See the caveats in the documentation: http://pandas.pydata.org/pandas-docs/stable/indexing.html#indexing-view-versus-copy\n",
      "  \n"
     ]
    }
   ],
   "source": [
    "efc.loc[6, 'salary'] = '$55k + and bonus eligible'\n",
    "efc.loc[23, 'salary'] = '200,000 - 300,000'"
   ]
  },
  {
   "cell_type": "code",
   "execution_count": 30,
   "metadata": {},
   "outputs": [],
   "source": [
    "def efc_stripper(row):\n",
    "    text = []\n",
    "    for char in row:\n",
    "        if char.isalpha():\n",
    "            if char.lower() == 'k':\n",
    "                text.append('000')\n",
    "            else:\n",
    "                pass\n",
    "        else:\n",
    "            if char in string.punctuation:\n",
    "                if (char == '-') or (char == '.'):\n",
    "                    text.append(char)\n",
    "            else:\n",
    "                text.append(char)\n",
    "    # change to list where min sal is x[0] and max sal is x[1] --> [190000 ,  230000  ]\n",
    "    sal_range = (''.join(text)).split('-')\n",
    "    \n",
    "    #force singular salary values to have min/max\n",
    "    if len(sal_range) < 2:\n",
    "        sal_range.append(sal_range[0])\n",
    "    \n",
    "    for i, sal in enumerate(sal_range):\n",
    "        sal_range[i] = float(sal)\n",
    "    \n",
    "    return sal_range"
   ]
  },
  {
   "cell_type": "code",
   "execution_count": 35,
   "metadata": {},
   "outputs": [
    {
     "name": "stderr",
     "output_type": "stream",
     "text": [
      "/Users/Han/anaconda3/lib/python3.6/site-packages/pandas/core/indexing.py:362: SettingWithCopyWarning: \n",
      "A value is trying to be set on a copy of a slice from a DataFrame.\n",
      "Try using .loc[row_indexer,col_indexer] = value instead\n",
      "\n",
      "See the caveats in the documentation: http://pandas.pydata.org/pandas-docs/stable/indexing.html#indexing-view-versus-copy\n",
      "  self.obj[key] = _infer_fill_value(value)\n",
      "/Users/Han/anaconda3/lib/python3.6/site-packages/pandas/core/indexing.py:543: SettingWithCopyWarning: \n",
      "A value is trying to be set on a copy of a slice from a DataFrame.\n",
      "Try using .loc[row_indexer,col_indexer] = value instead\n",
      "\n",
      "See the caveats in the documentation: http://pandas.pydata.org/pandas-docs/stable/indexing.html#indexing-view-versus-copy\n",
      "  self.obj[item] = s\n"
     ]
    }
   ],
   "source": [
    "efc.loc[:, 'salary_clean'] = efc.loc[:, 'salary'].apply(efc_stripper)\n",
    "efc.loc[:, 'min_salary'] = efc.loc[:, 'salary_clean'].apply(lambda x: x[0])\n",
    "efc.loc[:, 'max_salary'] = efc.loc[:, 'salary_clean'].apply(lambda x: x[1])"
   ]
  },
  {
   "cell_type": "code",
   "execution_count": 36,
   "metadata": {},
   "outputs": [
    {
     "data": {
      "text/html": [
       "<div>\n",
       "<style scoped>\n",
       "    .dataframe tbody tr th:only-of-type {\n",
       "        vertical-align: middle;\n",
       "    }\n",
       "\n",
       "    .dataframe tbody tr th {\n",
       "        vertical-align: top;\n",
       "    }\n",
       "\n",
       "    .dataframe thead th {\n",
       "        text-align: right;\n",
       "    }\n",
       "</style>\n",
       "<table border=\"1\" class=\"dataframe\">\n",
       "  <thead>\n",
       "    <tr style=\"text-align: right;\">\n",
       "      <th></th>\n",
       "      <th>title</th>\n",
       "      <th>company</th>\n",
       "      <th>location</th>\n",
       "      <th>desc</th>\n",
       "      <th>date</th>\n",
       "      <th>salary</th>\n",
       "      <th>salary_clean</th>\n",
       "      <th>min_salary</th>\n",
       "      <th>max_salary</th>\n",
       "    </tr>\n",
       "  </thead>\n",
       "  <tbody>\n",
       "    <tr>\n",
       "      <th>14</th>\n",
       "      <td>Core Java Developer</td>\n",
       "      <td>Synechron Inc.</td>\n",
       "      <td>New York, NY, USA</td>\n",
       "      <td>\\n\\nSynechron is looking strong Java Lead Deve...</td>\n",
       "      <td>\\n                    15 Oct 18</td>\n",
       "      <td>$100 - $140</td>\n",
       "      <td>[100.0, 140.0]</td>\n",
       "      <td>100.0</td>\n",
       "      <td>140.0</td>\n",
       "    </tr>\n",
       "    <tr>\n",
       "      <th>19</th>\n",
       "      <td>ABL Credit Officer</td>\n",
       "      <td>The Delafield Group</td>\n",
       "      <td>Livingston, NJ, USA</td>\n",
       "      <td>\\n\\nCandidate will be responsible for the qual...</td>\n",
       "      <td>\\n                    05 Oct 18</td>\n",
       "      <td>$225</td>\n",
       "      <td>[225.0, 225.0]</td>\n",
       "      <td>225.0</td>\n",
       "      <td>225.0</td>\n",
       "    </tr>\n",
       "    <tr>\n",
       "      <th>21</th>\n",
       "      <td>Systematic Quant Trading seat with award winni...</td>\n",
       "      <td>Jove International</td>\n",
       "      <td>Boston, MA, USA</td>\n",
       "      <td>\\n\\nMy client is a leading quantitative tradin...</td>\n",
       "      <td>\\n                    15 Oct 18</td>\n",
       "      <td>200-350k USD</td>\n",
       "      <td>[200.0, 350000.0]</td>\n",
       "      <td>200.0</td>\n",
       "      <td>350000.0</td>\n",
       "    </tr>\n",
       "    <tr>\n",
       "      <th>25</th>\n",
       "      <td>Excel/Vba consultants</td>\n",
       "      <td>Focus Capital Markets</td>\n",
       "      <td>New York, NY, USA</td>\n",
       "      <td>\\n\\nMigrate an Excel based portfolio analytic ...</td>\n",
       "      <td>\\n                    24 Sep 18</td>\n",
       "      <td>80 dollars per hour</td>\n",
       "      <td>[80.0, 80.0]</td>\n",
       "      <td>80.0</td>\n",
       "      <td>80.0</td>\n",
       "    </tr>\n",
       "    <tr>\n",
       "      <th>26</th>\n",
       "      <td>Senior Java Developer</td>\n",
       "      <td>Adaptive Financial Consulting</td>\n",
       "      <td>New York, NY, USA</td>\n",
       "      <td>\\n\\nWe are Adaptive, a successful and growing ...</td>\n",
       "      <td>\\n                    18 Oct 18</td>\n",
       "      <td>$150-$250K DOE</td>\n",
       "      <td>[150.0, 250000.0]</td>\n",
       "      <td>150.0</td>\n",
       "      <td>250000.0</td>\n",
       "    </tr>\n",
       "  </tbody>\n",
       "</table>\n",
       "</div>"
      ],
      "text/plain": [
       "                                                title  \\\n",
       "14                                Core Java Developer   \n",
       "19                                 ABL Credit Officer   \n",
       "21  Systematic Quant Trading seat with award winni...   \n",
       "25                              Excel/Vba consultants   \n",
       "26                              Senior Java Developer   \n",
       "\n",
       "                          company             location  \\\n",
       "14                 Synechron Inc.    New York, NY, USA   \n",
       "19            The Delafield Group  Livingston, NJ, USA   \n",
       "21             Jove International      Boston, MA, USA   \n",
       "25          Focus Capital Markets    New York, NY, USA   \n",
       "26  Adaptive Financial Consulting    New York, NY, USA   \n",
       "\n",
       "                                                 desc  \\\n",
       "14  \\n\\nSynechron is looking strong Java Lead Deve...   \n",
       "19  \\n\\nCandidate will be responsible for the qual...   \n",
       "21  \\n\\nMy client is a leading quantitative tradin...   \n",
       "25  \\n\\nMigrate an Excel based portfolio analytic ...   \n",
       "26  \\n\\nWe are Adaptive, a successful and growing ...   \n",
       "\n",
       "                               date               salary       salary_clean  \\\n",
       "14  \\n                    15 Oct 18          $100 - $140     [100.0, 140.0]   \n",
       "19  \\n                    05 Oct 18                 $225     [225.0, 225.0]   \n",
       "21  \\n                    15 Oct 18         200-350k USD  [200.0, 350000.0]   \n",
       "25  \\n                    24 Sep 18  80 dollars per hour       [80.0, 80.0]   \n",
       "26  \\n                    18 Oct 18       $150-$250K DOE  [150.0, 250000.0]   \n",
       "\n",
       "    min_salary  max_salary  \n",
       "14       100.0       140.0  \n",
       "19       225.0       225.0  \n",
       "21       200.0    350000.0  \n",
       "25        80.0        80.0  \n",
       "26       150.0    250000.0  "
      ]
     },
     "execution_count": 36,
     "metadata": {},
     "output_type": "execute_result"
    }
   ],
   "source": [
    "# again, manually check and clean dirty data\n",
    "efc[(efc['min_salary'] < 5000) | (efc['max_salary'] < 5000)]"
   ]
  },
  {
   "cell_type": "code",
   "execution_count": 37,
   "metadata": {},
   "outputs": [],
   "source": [
    "efc.loc[[14,19], ['min_salary','max_salary']] = efc.loc[[14,19], ['min_salary','max_salary']]*100\n",
    "efc.loc[[21,26], ['min_salary']] = efc.loc[[21,26], ['min_salary']]*100\n",
    "efc.loc[25, ['min_salary','max_salary']] = efc.loc[25, ['min_salary','max_salary']]*7*260"
   ]
  },
  {
   "cell_type": "code",
   "execution_count": 38,
   "metadata": {},
   "outputs": [
    {
     "name": "stderr",
     "output_type": "stream",
     "text": [
      "/Users/Han/anaconda3/lib/python3.6/site-packages/ipykernel_launcher.py:2: SettingWithCopyWarning: \n",
      "A value is trying to be set on a copy of a slice from a DataFrame.\n",
      "Try using .loc[row_indexer,col_indexer] = value instead\n",
      "\n",
      "See the caveats in the documentation: http://pandas.pydata.org/pandas-docs/stable/indexing.html#indexing-view-versus-copy\n",
      "  \n"
     ]
    }
   ],
   "source": [
    "efc.drop(['salary','salary_clean'],axis=1,inplace=True)\n",
    "efc['avg_salary'] = (efc['min_salary'] + efc['max_salary'])/2"
   ]
  },
  {
   "cell_type": "code",
   "execution_count": 39,
   "metadata": {},
   "outputs": [],
   "source": [
    "efc.loc[:, 'month_posted'] = efc.loc[:, 'date'].apply(lambda x: (pd.to_datetime(x.replace('\\n',''))).month if x != '0' else 0)\n",
    "efc.loc[:, 'location'] = efc.loc[:, 'location'].apply(lambda x: x.replace(', USA',''))"
   ]
  },
  {
   "cell_type": "code",
   "execution_count": 40,
   "metadata": {},
   "outputs": [],
   "source": [
    "efc.loc[:, 'desc_clean'] = efc['desc'].str.replace('\\n','. ')\n",
    "efc.drop(['desc','date','min_salary','max_salary'], axis=1, inplace=True)"
   ]
  },
  {
   "cell_type": "markdown",
   "metadata": {},
   "source": [
    "## Merge"
   ]
  },
  {
   "cell_type": "code",
   "execution_count": 41,
   "metadata": {},
   "outputs": [],
   "source": [
    "columns_list = ['title','company','location','month_posted','desc_clean','avg_salary']"
   ]
  },
  {
   "cell_type": "code",
   "execution_count": 42,
   "metadata": {},
   "outputs": [],
   "source": [
    "simplyhired_test = simplyhired.loc[:, columns_list]"
   ]
  },
  {
   "cell_type": "code",
   "execution_count": 43,
   "metadata": {},
   "outputs": [],
   "source": [
    "efc_test = efc.loc[:, columns_list]"
   ]
  },
  {
   "cell_type": "code",
   "execution_count": 44,
   "metadata": {},
   "outputs": [],
   "source": [
    "simplyhired_test['site'] = 'SH'\n",
    "efc_test['site'] = 'efc'"
   ]
  },
  {
   "cell_type": "code",
   "execution_count": 45,
   "metadata": {},
   "outputs": [],
   "source": [
    "jobs = pd.concat([efc_test, simplyhired_test]).reset_index(drop=True)"
   ]
  },
  {
   "cell_type": "code",
   "execution_count": 46,
   "metadata": {},
   "outputs": [],
   "source": [
    "jobs.to_csv('/Users/Han/Downloads/jobs_data.csv')"
   ]
  },
  {
   "cell_type": "markdown",
   "metadata": {},
   "source": [
    "### QUESTION 1: Factors that impact salary\n",
    "\n",
    "To predict salary you will be building either a classification or regression model, using features like the location, title, and summary of the job. If framing this as a regression problem, you will be estimating the listed salary amounts. You may instead choose to frame this as a classification problem, in which case you will create labels from these salaries (high vs. low salary, for example) according to thresholds (such as median salary).\n",
    "\n",
    "You have learned a variety of new skills and models that may be useful for this problem:\n",
    "- NLP\n",
    "- Unsupervised learning and dimensionality reduction techniques (PCA, clustering)\n",
    "- Ensemble methods and decision tree models\n",
    "- SVM models\n",
    "\n",
    "Whatever you decide to use, the most important thing is to justify your choices and interpret your results. *Communication of your process is key.* Note that most listings **DO NOT** come with salary information. You'll need to able to extrapolate or predict the expected salaries for these listings.\n",
    "\n"
   ]
  },
  {
   "cell_type": "code",
   "execution_count": 64,
   "metadata": {},
   "outputs": [],
   "source": [
    "import numpy as np\n",
    "import scipy.stats as stats\n",
    "import pandas as pd\n",
    "import string"
   ]
  },
  {
   "cell_type": "code",
   "execution_count": 65,
   "metadata": {},
   "outputs": [],
   "source": [
    "import matplotlib.pyplot as plt\n",
    "import seaborn as sns\n",
    "%matplotlib inline\n",
    "%config InlineBackend.figure_format = 'retina'"
   ]
  },
  {
   "cell_type": "code",
   "execution_count": 66,
   "metadata": {},
   "outputs": [],
   "source": [
    "from sklearn.feature_extraction.text import CountVectorizer, TfidfVectorizer, ENGLISH_STOP_WORDS as esw\n",
    "from nltk.corpus import stopwords\n",
    "import spacy\n",
    "import en_core_web_sm\n",
    "from nltk.stem.porter import PorterStemmer\n",
    "from nltk.stem import WordNetLemmatizer\n",
    "import re"
   ]
  },
  {
   "cell_type": "code",
   "execution_count": 67,
   "metadata": {},
   "outputs": [],
   "source": [
    "from sklearn.pipeline import Pipeline\n",
    "from sklearn.preprocessing import StandardScaler\n",
    "from sklearn.model_selection import train_test_split, cross_val_score, KFold\n",
    "from sklearn.metrics import classification_report, confusion_matrix, roc_curve, auc"
   ]
  },
  {
   "cell_type": "code",
   "execution_count": 68,
   "metadata": {},
   "outputs": [],
   "source": [
    "from sklearn.ensemble import RandomForestClassifier\n",
    "from sklearn.naive_bayes import MultinomialNB, BernoulliNB, GaussianNB\n",
    "from sklearn.linear_model import LogisticRegression"
   ]
  },
  {
   "cell_type": "code",
   "execution_count": 69,
   "metadata": {},
   "outputs": [],
   "source": [
    "# https://www.dropbox.com/s/gwraeplc500l084/jobs_data.csv?dl=0\n",
    "jobs = pd.read_csv('./scraped/jobs_data.csv', index_col=0)"
   ]
  },
  {
   "cell_type": "code",
   "execution_count": 70,
   "metadata": {},
   "outputs": [
    {
     "data": {
      "text/plain": [
       "(140000.0, 111500.0)"
      ]
     },
     "execution_count": 70,
     "metadata": {},
     "output_type": "execute_result"
    }
   ],
   "source": [
    "np.percentile(jobs['avg_salary'], 75) , np.percentile(jobs['avg_salary'], 25)"
   ]
  },
  {
   "cell_type": "code",
   "execution_count": 71,
   "metadata": {},
   "outputs": [
    {
     "data": {
      "text/plain": [
       "<matplotlib.lines.Line2D at 0x11e991978>"
      ]
     },
     "execution_count": 71,
     "metadata": {},
     "output_type": "execute_result"
    },
    {
     "data": {
      "image/png": "[encoded data removed]",
      "text/plain": [
       "<Figure size 432x288 with 1 Axes>"
      ]
     },
     "metadata": {
      "image/png": {
       "height": 250,
       "width": 392
      },
      "needs_background": "light"
     },
     "output_type": "display_data"
    }
   ],
   "source": [
    "jobs['avg_salary'].plot.hist(bins=30)\n",
    "plt.axvline(jobs['avg_salary'].mean(), c='r')\n",
    "plt.axvline(np.percentile(jobs['avg_salary'], 75), c='r', ls='--')\n",
    "plt.axvline(np.percentile(jobs['avg_salary'], 25), c='r', ls='--')"
   ]
  },
  {
   "cell_type": "code",
   "execution_count": 72,
   "metadata": {},
   "outputs": [],
   "source": [
    "# 3 classes\n",
    "salary_band = []\n",
    "for job in jobs['avg_salary']:\n",
    "    if job > np.percentile(jobs['avg_salary'], 75):\n",
    "        salary_band.append('high')\n",
    "    elif job < np.percentile(jobs['avg_salary'], 25):\n",
    "        salary_band.append('low')\n",
    "    else:\n",
    "        salary_band.append('medium')"
   ]
  },
  {
   "cell_type": "code",
   "execution_count": 74,
   "metadata": {},
   "outputs": [],
   "source": [
    "jobs['salary_band'] = salary_band"
   ]
  },
  {
   "cell_type": "code",
   "execution_count": 75,
   "metadata": {},
   "outputs": [
    {
     "data": {
      "text/plain": [
       "medium    554\n",
       "low       250\n",
       "high      198\n",
       "Name: salary_band, dtype: int64"
      ]
     },
     "execution_count": 75,
     "metadata": {},
     "output_type": "execute_result"
    }
   ],
   "source": [
    "jobs['salary_band'].value_counts()"
   ]
  },
  {
   "cell_type": "code",
   "execution_count": 76,
   "metadata": {},
   "outputs": [
    {
     "data": {
      "text/plain": [
       "0.5528942115768463"
      ]
     },
     "execution_count": 76,
     "metadata": {},
     "output_type": "execute_result"
    }
   ],
   "source": [
    "554/(555+447)"
   ]
  },
  {
   "cell_type": "code",
   "execution_count": 77,
   "metadata": {},
   "outputs": [],
   "source": [
    "def lower_case(word_array):\n",
    "    word_array = word_array.str.lower()\n",
    "    return word_array\n",
    "\n",
    "stop = stopwords.words('english')\n",
    "def remove_stopwords(word_array):\n",
    "    word_array = word_array.apply(lambda x: \" \".join(x for x in x.split() if x not in stop))\n",
    "    return word_array\n",
    "    \n",
    "def remove_punc(word_array):\n",
    "    word_array = word_array.str.replace('[^\\w\\s]' ,'')\n",
    "    word_array = word_array.str.replace('\\n','')\n",
    "    word_array = word_array.str.replace('  ' ,' ')\n",
    "    return word_array\n",
    "\n",
    "st = PorterStemmer()\n",
    "def stem_words(word_array):\n",
    "    word_array = word_array.apply(lambda x: \" \".join([st.stem(word) for word in x.split()]))\n",
    "    return word_array\n",
    "\n",
    "wnl = WordNetLemmatizer()\n",
    "def lemm_words(word_array):\n",
    "    word_array = word_array.apply(lambda x: \" \".join([wnl.lemmatize(word) for word in x.split()]))\n",
    "    return word_array\n",
    "\n",
    "def remove_numbers(word_array):\n",
    "    word_array = word_array.apply(lambda x : re.sub(r'\\d+', '', x))\n",
    "    return word_array"
   ]
  },
  {
   "cell_type": "code",
   "execution_count": 78,
   "metadata": {},
   "outputs": [],
   "source": [
    "def clean_pipeline(word_array):\n",
    "    word_array = lower_case(word_array)\n",
    "    word_array = remove_stopwords(word_array)\n",
    "    word_array = remove_punc(word_array)\n",
    "    word_array = lemm_words(word_array)\n",
    "    word_array = remove_numbers(word_array)\n",
    "    #word_array = stem_words(word_array)\n",
    "    #word_array = tokenize(word_array)\n",
    "    return word_array"
   ]
  },
  {
   "cell_type": "code",
   "execution_count": 79,
   "metadata": {},
   "outputs": [],
   "source": [
    "jobs['desc_nlp'] = clean_pipeline(jobs['desc_clean'])\n",
    "jobs['title_nlp'] = clean_pipeline(jobs['title'])"
   ]
  },
  {
   "cell_type": "markdown",
   "metadata": {},
   "source": [
    "### Desc as a predictor"
   ]
  },
  {
   "cell_type": "code",
   "execution_count": 80,
   "metadata": {},
   "outputs": [],
   "source": [
    "X = jobs.loc[:,['company','location','month_posted','desc_nlp','title_nlp','site']]\n",
    "y = jobs['salary_band']"
   ]
  },
  {
   "cell_type": "code",
   "execution_count": 81,
   "metadata": {},
   "outputs": [],
   "source": [
    "X_train, X_test, y_train, y_test = train_test_split(X,y,random_state=42, test_size=0.25)"
   ]
  },
  {
   "cell_type": "code",
   "execution_count": 82,
   "metadata": {},
   "outputs": [
    {
     "data": {
      "text/plain": [
       "14240"
      ]
     },
     "execution_count": 82,
     "metadata": {},
     "output_type": "execute_result"
    }
   ],
   "source": [
    "cv_desc = CountVectorizer(ngram_range=(1,1))\n",
    "cv_desc.fit(X_train['desc_nlp'])\n",
    "len(cv_desc.get_feature_names())    "
   ]
  },
  {
   "cell_type": "code",
   "execution_count": 83,
   "metadata": {},
   "outputs": [],
   "source": [
    "X_train_desc = pd.DataFrame(cv_desc.transform(X_train['desc_nlp']).todense(), \\\n",
    "                            columns=[x+'_desc' for x in cv_desc.get_feature_names()]) \n",
    "X_test_desc = pd.DataFrame(cv_desc.transform(X_test['desc_nlp']).todense(), \\\n",
    "                            columns=[x+'_desc' for x in cv_desc.get_feature_names()]) "
   ]
  },
  {
   "cell_type": "code",
   "execution_count": 84,
   "metadata": {},
   "outputs": [
    {
     "data": {
      "text/plain": [
       "(751, 14240)"
      ]
     },
     "execution_count": 84,
     "metadata": {},
     "output_type": "execute_result"
    }
   ],
   "source": [
    "X_train_desc.shape"
   ]
  },
  {
   "cell_type": "code",
   "execution_count": 85,
   "metadata": {},
   "outputs": [
    {
     "data": {
      "text/plain": [
       "0.6165549818320902"
      ]
     },
     "execution_count": 85,
     "metadata": {},
     "output_type": "execute_result"
    }
   ],
   "source": [
    "nb = MultinomialNB()\n",
    "nb.fit(X_train_desc, y_train)\n",
    "nb_pred = nb.predict(X_test_desc)\n",
    "np.mean(cross_val_score(nb, X_train_desc, y_train, cv=3))"
   ]
  },
  {
   "cell_type": "code",
   "execution_count": 86,
   "metadata": {},
   "outputs": [
    {
     "name": "stdout",
     "output_type": "stream",
     "text": [
      "              precision    recall  f1-score   support\n",
      "\n",
      "        high       0.76      0.23      0.36        56\n",
      "         low       0.63      0.33      0.44        57\n",
      "      medium       0.62      0.92      0.74       138\n",
      "\n",
      "   micro avg       0.63      0.63      0.63       251\n",
      "   macro avg       0.67      0.50      0.51       251\n",
      "weighted avg       0.66      0.63      0.59       251\n",
      "\n"
     ]
    }
   ],
   "source": [
    "print(classification_report(y_test,nb_pred))"
   ]
  },
  {
   "cell_type": "code",
   "execution_count": 87,
   "metadata": {
    "scrolled": true
   },
   "outputs": [
    {
     "name": "stdout",
     "output_type": "stream",
     "text": [
      "0.5872527570599859\n"
     ]
    }
   ],
   "source": [
    "rfc = RandomForestClassifier(n_estimators=100)\n",
    "rfc.fit(X_train_desc, y_train)\n",
    "rfc_pred = rfc.predict(X_test_desc)\n",
    "print(np.mean(cross_val_score(rfc, X_train_desc, y_train, cv=3)))"
   ]
  },
  {
   "cell_type": "code",
   "execution_count": 88,
   "metadata": {
    "scrolled": false
   },
   "outputs": [
    {
     "data": {
      "image/png": "[encoded data removed]",
      "text/plain": [
       "<Figure size 576x360 with 1 Axes>"
      ]
     },
     "metadata": {
      "image/png": {
       "height": 304,
       "width": 553
      },
      "needs_background": "light"
     },
     "output_type": "display_data"
    }
   ],
   "source": [
    "rfc_model = pd.DataFrame(data=rfc.feature_importances_, index=X_train_desc.columns, columns=['beta'])\n",
    "rfc_model = rfc_model[rfc_model['beta'] != 0].sort_values(by='beta', ascending=False)\n",
    "rfc_model.head(10).plot.barh(figsize=(8,5))\n",
    "plt.gca().invert_yaxis()"
   ]
  },
  {
   "cell_type": "markdown",
   "metadata": {},
   "source": [
    "### Title as a predictor"
   ]
  },
  {
   "cell_type": "code",
   "execution_count": 89,
   "metadata": {},
   "outputs": [
    {
     "data": {
      "text/plain": [
       "446"
      ]
     },
     "execution_count": 89,
     "metadata": {},
     "output_type": "execute_result"
    }
   ],
   "source": [
    "cv_title = CountVectorizer(ngram_range=(1,1))\n",
    "cv_title.fit(X_train['title_nlp'])\n",
    "len(cv_title.get_feature_names())    "
   ]
  },
  {
   "cell_type": "code",
   "execution_count": 90,
   "metadata": {},
   "outputs": [],
   "source": [
    "X_train_title = pd.DataFrame(cv_title.transform(X_train['title_nlp']).todense(), \\\n",
    "                            columns=[x+'_title' for x in cv_title.get_feature_names()]) \n",
    "X_test_title = pd.DataFrame(cv_title.transform(X_test['title_nlp']).todense(), \\\n",
    "                            columns=[x+'_title' for x in cv_title.get_feature_names()]) "
   ]
  },
  {
   "cell_type": "code",
   "execution_count": 91,
   "metadata": {},
   "outputs": [
    {
     "data": {
      "text/plain": [
       "0.552601389685727"
      ]
     },
     "execution_count": 91,
     "metadata": {},
     "output_type": "execute_result"
    }
   ],
   "source": [
    "rfc = RandomForestClassifier(n_estimators=100)\n",
    "rfc.fit(X_train_title, y_train)\n",
    "rfc_pred = rfc.predict(X_test_title)\n",
    "np.mean(cross_val_score(rfc, X_train_title, y_train, cv=3))"
   ]
  },
  {
   "cell_type": "code",
   "execution_count": 92,
   "metadata": {},
   "outputs": [
    {
     "name": "stdout",
     "output_type": "stream",
     "text": [
      "              precision    recall  f1-score   support\n",
      "\n",
      "        high       0.71      0.27      0.39        56\n",
      "         low       0.35      0.14      0.20        57\n",
      "      medium       0.59      0.88      0.71       138\n",
      "\n",
      "   micro avg       0.58      0.58      0.58       251\n",
      "   macro avg       0.55      0.43      0.43       251\n",
      "weighted avg       0.56      0.58      0.52       251\n",
      "\n"
     ]
    }
   ],
   "source": [
    "print(classification_report(y_test,rfc_pred))"
   ]
  },
  {
   "cell_type": "code",
   "execution_count": 93,
   "metadata": {},
   "outputs": [
    {
     "data": {
      "text/plain": [
       "270"
      ]
     },
     "execution_count": 93,
     "metadata": {},
     "output_type": "execute_result"
    }
   ],
   "source": [
    "cv_title = TfidfVectorizer(ngram_range=(1,1), max_df=150)\n",
    "cv_title.fit(X_train[y_train != 'medium']['title_nlp'])\n",
    "len(cv_title.get_feature_names())    "
   ]
  },
  {
   "cell_type": "code",
   "execution_count": 94,
   "metadata": {},
   "outputs": [],
   "source": [
    "X_train_title = pd.DataFrame(cv_title.transform(X_train[y_train != 'medium']['title_nlp']).todense(), \\\n",
    "                            columns=[x+'_title' for x in cv_title.get_feature_names()]) \n",
    "X_test_title = pd.DataFrame(cv_title.transform(X_test['title_nlp']).todense(), \\\n",
    "                            columns=[x+'_title' for x in cv_title.get_feature_names()]) "
   ]
  },
  {
   "cell_type": "code",
   "execution_count": 95,
   "metadata": {},
   "outputs": [
    {
     "data": {
      "text/plain": [
       "(0.6536222630164684, 0.037703665880292975)"
      ]
     },
     "execution_count": 95,
     "metadata": {},
     "output_type": "execute_result"
    }
   ],
   "source": [
    "rfc = RandomForestClassifier(n_estimators=100)\n",
    "rfc.fit(X_train_title, y_train[y_train != 'medium'])\n",
    "rfc_pred = rfc.predict(X_test_title)\n",
    "scores = cross_val_score(rfc, X_train_title, y_train[y_train != 'medium'], cv=5)\n",
    "np.mean(scores), np.std(scores)"
   ]
  },
  {
   "cell_type": "code",
   "execution_count": 96,
   "metadata": {
    "scrolled": true
   },
   "outputs": [
    {
     "name": "stdout",
     "output_type": "stream",
     "text": [
      "              precision    recall  f1-score   support\n",
      "\n",
      "        high       0.44      0.45      0.44        56\n",
      "         low       0.25      0.86      0.39        57\n",
      "      medium       0.00      0.00      0.00       138\n",
      "\n",
      "   micro avg       0.29      0.29      0.29       251\n",
      "   macro avg       0.23      0.44      0.28       251\n",
      "weighted avg       0.16      0.29      0.19       251\n",
      "\n"
     ]
    },
    {
     "name": "stderr",
     "output_type": "stream",
     "text": [
      "/Users/Han/anaconda3/lib/python3.6/site-packages/sklearn/metrics/classification.py:1143: UndefinedMetricWarning: Precision and F-score are ill-defined and being set to 0.0 in labels with no predicted samples.\n",
      "  'precision', 'predicted', average, warn_for)\n",
      "/Users/Han/anaconda3/lib/python3.6/site-packages/sklearn/metrics/classification.py:1143: UndefinedMetricWarning: Precision and F-score are ill-defined and being set to 0.0 in labels with no predicted samples.\n",
      "  'precision', 'predicted', average, warn_for)\n",
      "/Users/Han/anaconda3/lib/python3.6/site-packages/sklearn/metrics/classification.py:1143: UndefinedMetricWarning: Precision and F-score are ill-defined and being set to 0.0 in labels with no predicted samples.\n",
      "  'precision', 'predicted', average, warn_for)\n"
     ]
    }
   ],
   "source": [
    "print(classification_report(y_test,rfc_pred))"
   ]
  },
  {
   "cell_type": "markdown",
   "metadata": {},
   "source": [
    "#### title is not bad at predicting high and low classes\n",
    "</br>"
   ]
  },
  {
   "cell_type": "code",
   "execution_count": 97,
   "metadata": {},
   "outputs": [],
   "source": [
    "# nb = MultinomialNB()\n",
    "# nb.fit(X_train_title, y_train)\n",
    "# nb_pred = nb.predict(X_test_title)\n",
    "# print(np.mean(cross_val_score(nb, X_train_title, y_train, cv=3)))\n",
    "# print(classification_report(y_test,nb_pred))"
   ]
  },
  {
   "cell_type": "code",
   "execution_count": 98,
   "metadata": {},
   "outputs": [
    {
     "data": {
      "image/png": "[encoded data removed]",
      "text/plain": [
       "<Figure size 576x360 with 1 Axes>"
      ]
     },
     "metadata": {
      "image/png": {
       "height": 304,
       "width": 538
      },
      "needs_background": "light"
     },
     "output_type": "display_data"
    }
   ],
   "source": [
    "rfc_model = pd.DataFrame(data=rfc.feature_importances_, index=X_train_title.columns, columns=['beta'])\n",
    "rfc_model = rfc_model[rfc_model['beta'] != 0].sort_values(by='beta', ascending=False)\n",
    "rfc_model.head(10).plot.barh(figsize=(8,5))\n",
    "plt.gca().invert_yaxis()"
   ]
  },
  {
   "cell_type": "markdown",
   "metadata": {},
   "source": [
    "### Location, Site, Month_posted, Company as predictors"
   ]
  },
  {
   "cell_type": "code",
   "execution_count": 99,
   "metadata": {},
   "outputs": [
    {
     "data": {
      "text/html": [
       "<div>\n",
       "<style scoped>\n",
       "    .dataframe tbody tr th:only-of-type {\n",
       "        vertical-align: middle;\n",
       "    }\n",
       "\n",
       "    .dataframe tbody tr th {\n",
       "        vertical-align: top;\n",
       "    }\n",
       "\n",
       "    .dataframe thead th {\n",
       "        text-align: right;\n",
       "    }\n",
       "</style>\n",
       "<table border=\"1\" class=\"dataframe\">\n",
       "  <thead>\n",
       "    <tr style=\"text-align: right;\">\n",
       "      <th></th>\n",
       "      <th>company</th>\n",
       "      <th>location</th>\n",
       "      <th>month_posted</th>\n",
       "      <th>desc_nlp</th>\n",
       "      <th>title_nlp</th>\n",
       "      <th>site</th>\n",
       "    </tr>\n",
       "  </thead>\n",
       "  <tbody>\n",
       "    <tr>\n",
       "      <th>0</th>\n",
       "      <td>Michael Page International - US</td>\n",
       "      <td>Manhattan, NY</td>\n",
       "      <td>10</td>\n",
       "      <td>data scientist overseeing team three also will...</td>\n",
       "      <td>data scientist</td>\n",
       "      <td>efc</td>\n",
       "    </tr>\n",
       "    <tr>\n",
       "      <th>1</th>\n",
       "      <td>Glocomms</td>\n",
       "      <td>New York, NY</td>\n",
       "      <td>9</td>\n",
       "      <td>cybersecurity startup seeking data engineer he...</td>\n",
       "      <td>data engineer</td>\n",
       "      <td>efc</td>\n",
       "    </tr>\n",
       "    <tr>\n",
       "      <th>2</th>\n",
       "      <td>Glocomms</td>\n",
       "      <td>New York, NY</td>\n",
       "      <td>8</td>\n",
       "      <td>software service solution company recognized g...</td>\n",
       "      <td>data engineer</td>\n",
       "      <td>efc</td>\n",
       "    </tr>\n",
       "    <tr>\n",
       "      <th>3</th>\n",
       "      <td>Jove International</td>\n",
       "      <td>New York, NY</td>\n",
       "      <td>10</td>\n",
       "      <td>firm incredibly strong track record within sys...</td>\n",
       "      <td>senior machine learning software engineer lead...</td>\n",
       "      <td>efc</td>\n",
       "    </tr>\n",
       "    <tr>\n",
       "      <th>4</th>\n",
       "      <td>Glocomms</td>\n",
       "      <td>Santa Clara, CA</td>\n",
       "      <td>8</td>\n",
       "      <td>software service solution company recognized g...</td>\n",
       "      <td>big data architect</td>\n",
       "      <td>efc</td>\n",
       "    </tr>\n",
       "  </tbody>\n",
       "</table>\n",
       "</div>"
      ],
      "text/plain": [
       "                           company         location  month_posted  \\\n",
       "0  Michael Page International - US    Manhattan, NY            10   \n",
       "1                         Glocomms     New York, NY             9   \n",
       "2                         Glocomms     New York, NY             8   \n",
       "3               Jove International     New York, NY            10   \n",
       "4                         Glocomms  Santa Clara, CA             8   \n",
       "\n",
       "                                            desc_nlp  \\\n",
       "0  data scientist overseeing team three also will...   \n",
       "1  cybersecurity startup seeking data engineer he...   \n",
       "2  software service solution company recognized g...   \n",
       "3  firm incredibly strong track record within sys...   \n",
       "4  software service solution company recognized g...   \n",
       "\n",
       "                                           title_nlp site  \n",
       "0                                     data scientist  efc  \n",
       "1                                      data engineer  efc  \n",
       "2                                      data engineer  efc  \n",
       "3  senior machine learning software engineer lead...  efc  \n",
       "4                                 big data architect  efc  "
      ]
     },
     "execution_count": 99,
     "metadata": {},
     "output_type": "execute_result"
    }
   ],
   "source": [
    "X.head()"
   ]
  },
  {
   "cell_type": "code",
   "execution_count": 100,
   "metadata": {},
   "outputs": [],
   "source": [
    "# EDA on location first\n",
    "X['state'] = X['location'].apply(lambda x: x.split(',')[-1])"
   ]
  },
  {
   "cell_type": "code",
   "execution_count": 101,
   "metadata": {},
   "outputs": [],
   "source": [
    "pivot = X.join(y).pivot_table(values='site', index='state', columns='salary_band', aggfunc='count'\n",
    "                     ).sort_values(by='high', ascending = False)\n",
    "\n",
    "pivot['sum'] = pivot['high'] + pivot['medium'] + pivot['low']\n",
    "minority_states = pivot[pivot['sum'].isna()].index.tolist()"
   ]
  },
  {
   "cell_type": "code",
   "execution_count": 102,
   "metadata": {},
   "outputs": [
    {
     "data": {
      "text/html": [
       "<div>\n",
       "<style scoped>\n",
       "    .dataframe tbody tr th:only-of-type {\n",
       "        vertical-align: middle;\n",
       "    }\n",
       "\n",
       "    .dataframe tbody tr th {\n",
       "        vertical-align: top;\n",
       "    }\n",
       "\n",
       "    .dataframe thead th {\n",
       "        text-align: right;\n",
       "    }\n",
       "</style>\n",
       "<table border=\"1\" class=\"dataframe\">\n",
       "  <thead>\n",
       "    <tr style=\"text-align: right;\">\n",
       "      <th>salary_band</th>\n",
       "      <th>high</th>\n",
       "      <th>low</th>\n",
       "      <th>medium</th>\n",
       "      <th>sum</th>\n",
       "    </tr>\n",
       "    <tr>\n",
       "      <th>state</th>\n",
       "      <th></th>\n",
       "      <th></th>\n",
       "      <th></th>\n",
       "      <th></th>\n",
       "    </tr>\n",
       "  </thead>\n",
       "  <tbody>\n",
       "    <tr>\n",
       "      <th>CA</th>\n",
       "      <td>90.0</td>\n",
       "      <td>17.0</td>\n",
       "      <td>139.0</td>\n",
       "      <td>246.0</td>\n",
       "    </tr>\n",
       "    <tr>\n",
       "      <th>NY</th>\n",
       "      <td>59.0</td>\n",
       "      <td>29.0</td>\n",
       "      <td>85.0</td>\n",
       "      <td>173.0</td>\n",
       "    </tr>\n",
       "    <tr>\n",
       "      <th>VA</th>\n",
       "      <td>9.0</td>\n",
       "      <td>9.0</td>\n",
       "      <td>20.0</td>\n",
       "      <td>38.0</td>\n",
       "    </tr>\n",
       "    <tr>\n",
       "      <th>NJ</th>\n",
       "      <td>7.0</td>\n",
       "      <td>6.0</td>\n",
       "      <td>13.0</td>\n",
       "      <td>26.0</td>\n",
       "    </tr>\n",
       "    <tr>\n",
       "      <th>Remote</th>\n",
       "      <td>5.0</td>\n",
       "      <td>15.0</td>\n",
       "      <td>25.0</td>\n",
       "      <td>45.0</td>\n",
       "    </tr>\n",
       "  </tbody>\n",
       "</table>\n",
       "</div>"
      ],
      "text/plain": [
       "salary_band  high   low  medium    sum\n",
       "state                                 \n",
       " CA          90.0  17.0   139.0  246.0\n",
       " NY          59.0  29.0    85.0  173.0\n",
       " VA           9.0   9.0    20.0   38.0\n",
       " NJ           7.0   6.0    13.0   26.0\n",
       "Remote        5.0  15.0    25.0   45.0"
      ]
     },
     "execution_count": 102,
     "metadata": {},
     "output_type": "execute_result"
    }
   ],
   "source": [
    "pivot.head()"
   ]
  },
  {
   "cell_type": "code",
   "execution_count": 103,
   "metadata": {},
   "outputs": [],
   "source": [
    "X['state'] = X['state'].apply(lambda x : 'Others' if x in minority_states else x)"
   ]
  },
  {
   "cell_type": "code",
   "execution_count": 104,
   "metadata": {},
   "outputs": [],
   "source": [
    "#re-pivot after consolidating minority states\n",
    "pivot = X.join(y).pivot_table(values='site', index='state', columns='salary_band', aggfunc='count'\n",
    "                     ).sort_values(by='high', ascending = False)\n",
    "\n",
    "pivot['sum'] = pivot['high'] + pivot['medium'] + pivot['low']"
   ]
  },
  {
   "cell_type": "code",
   "execution_count": 105,
   "metadata": {},
   "outputs": [],
   "source": [
    "pivot['high%'] = pivot['high']/pivot['sum']\n",
    "pivot['medium%'] = pivot['medium']/pivot['sum']\n",
    "pivot['low%'] = pivot['low']/pivot['sum']"
   ]
  },
  {
   "cell_type": "code",
   "execution_count": 106,
   "metadata": {},
   "outputs": [
    {
     "data": {
      "text/plain": [
       "<matplotlib.axes._subplots.AxesSubplot at 0x1a294f3a20>"
      ]
     },
     "execution_count": 106,
     "metadata": {},
     "output_type": "execute_result"
    },
    {
     "data": {
      "image/png": "[encoded data removed]",
      "text/plain": [
       "<Figure size 720x432 with 1 Axes>"
      ]
     },
     "metadata": {
      "image/png": {
       "height": 372,
       "width": 633
      },
      "needs_background": "light"
     },
     "output_type": "display_data"
    }
   ],
   "source": [
    "plt.figure(figsize=(10,6))\n",
    "sns.barplot(data=pd.melt(pd.DataFrame(pivot['low%']).join(pivot['high%']).reset_index(),id_vars='state'), y='state', x='value', hue='variable', orient='h')\n"
   ]
  },
  {
   "cell_type": "code",
   "execution_count": 107,
   "metadata": {},
   "outputs": [],
   "source": [
    "pivot2 = pivot.reset_index().drop(['high','low','medium','sum'],axis=1)"
   ]
  },
  {
   "cell_type": "code",
   "execution_count": 108,
   "metadata": {},
   "outputs": [
    {
     "data": {
      "text/plain": [
       "<matplotlib.axes._subplots.AxesSubplot at 0x1a3460a198>"
      ]
     },
     "execution_count": 108,
     "metadata": {},
     "output_type": "execute_result"
    },
    {
     "data": {
      "image/png": "[encoded data removed]",
      "text/plain": [
       "<Figure size 720x432 with 1 Axes>"
      ]
     },
     "metadata": {
      "image/png": {
       "height": 372,
       "width": 633
      },
      "needs_background": "light"
     },
     "output_type": "display_data"
    }
   ],
   "source": [
    "plt.figure(figsize=(10,6))\n",
    "sns.barplot(data=pd.melt(pivot2,id_vars='state'), y='state', x='value', hue='salary_band', orient='h')"
   ]
  },
  {
   "cell_type": "code",
   "execution_count": 109,
   "metadata": {},
   "outputs": [],
   "source": [
    "from sklearn.preprocessing import OneHotEncoder\n",
    "labeler = OneHotEncoder()"
   ]
  },
  {
   "cell_type": "code",
   "execution_count": 110,
   "metadata": {},
   "outputs": [
    {
     "data": {
      "text/plain": [
       "0.7493954131122272"
      ]
     },
     "execution_count": 110,
     "metadata": {},
     "output_type": "execute_result"
    }
   ],
   "source": [
    "X_cat = labeler.fit_transform(X[['state']]).toarray()\n",
    "X_cat_train, X_cat_test, y_cat_train, y_cat_test = train_test_split(X_cat,y,random_state=42, test_size=0.25)\n",
    "\n",
    "X_cat_train = X_cat_train[y_cat_train != 'medium']\n",
    "y_cat_train = y_cat_train[y_cat_train != 'medium']\n",
    "\n",
    "rfc = RandomForestClassifier(n_estimators=100)\n",
    "rfc.fit(X_cat_train, y_cat_train)\n",
    "\n",
    "rfc_pred = rfc.predict(X_cat_test)\n",
    "np.mean(cross_val_score(rfc, X_cat_train, y_cat_train, cv=3))"
   ]
  },
  {
   "cell_type": "code",
   "execution_count": 111,
   "metadata": {},
   "outputs": [],
   "source": [
    "loc_proba = rfc.predict_proba(X_cat_test)"
   ]
  },
  {
   "cell_type": "code",
   "execution_count": 112,
   "metadata": {},
   "outputs": [
    {
     "data": {
      "text/html": [
       "<div>\n",
       "<style scoped>\n",
       "    .dataframe tbody tr th:only-of-type {\n",
       "        vertical-align: middle;\n",
       "    }\n",
       "\n",
       "    .dataframe tbody tr th {\n",
       "        vertical-align: top;\n",
       "    }\n",
       "\n",
       "    .dataframe thead th {\n",
       "        text-align: right;\n",
       "    }\n",
       "</style>\n",
       "<table border=\"1\" class=\"dataframe\">\n",
       "  <thead>\n",
       "    <tr style=\"text-align: right;\">\n",
       "      <th></th>\n",
       "      <th>high</th>\n",
       "      <th>low</th>\n",
       "      <th>salary_band</th>\n",
       "    </tr>\n",
       "  </thead>\n",
       "  <tbody>\n",
       "    <tr>\n",
       "      <th>0</th>\n",
       "      <td>0.039048</td>\n",
       "      <td>0.960952</td>\n",
       "      <td>medium</td>\n",
       "    </tr>\n",
       "    <tr>\n",
       "      <th>1</th>\n",
       "      <td>0.618776</td>\n",
       "      <td>0.381224</td>\n",
       "      <td>medium</td>\n",
       "    </tr>\n",
       "    <tr>\n",
       "      <th>2</th>\n",
       "      <td>0.039048</td>\n",
       "      <td>0.960952</td>\n",
       "      <td>medium</td>\n",
       "    </tr>\n",
       "    <tr>\n",
       "      <th>3</th>\n",
       "      <td>0.188075</td>\n",
       "      <td>0.811925</td>\n",
       "      <td>medium</td>\n",
       "    </tr>\n",
       "    <tr>\n",
       "      <th>4</th>\n",
       "      <td>0.618776</td>\n",
       "      <td>0.381224</td>\n",
       "      <td>low</td>\n",
       "    </tr>\n",
       "    <tr>\n",
       "      <th>5</th>\n",
       "      <td>0.039048</td>\n",
       "      <td>0.960952</td>\n",
       "      <td>low</td>\n",
       "    </tr>\n",
       "    <tr>\n",
       "      <th>6</th>\n",
       "      <td>0.188075</td>\n",
       "      <td>0.811925</td>\n",
       "      <td>low</td>\n",
       "    </tr>\n",
       "    <tr>\n",
       "      <th>7</th>\n",
       "      <td>0.814911</td>\n",
       "      <td>0.185089</td>\n",
       "      <td>high</td>\n",
       "    </tr>\n",
       "    <tr>\n",
       "      <th>8</th>\n",
       "      <td>0.101835</td>\n",
       "      <td>0.898165</td>\n",
       "      <td>low</td>\n",
       "    </tr>\n",
       "    <tr>\n",
       "      <th>9</th>\n",
       "      <td>0.814911</td>\n",
       "      <td>0.185089</td>\n",
       "      <td>high</td>\n",
       "    </tr>\n",
       "  </tbody>\n",
       "</table>\n",
       "</div>"
      ],
      "text/plain": [
       "       high       low salary_band\n",
       "0  0.039048  0.960952      medium\n",
       "1  0.618776  0.381224      medium\n",
       "2  0.039048  0.960952      medium\n",
       "3  0.188075  0.811925      medium\n",
       "4  0.618776  0.381224         low\n",
       "5  0.039048  0.960952         low\n",
       "6  0.188075  0.811925         low\n",
       "7  0.814911  0.185089        high\n",
       "8  0.101835  0.898165         low\n",
       "9  0.814911  0.185089        high"
      ]
     },
     "execution_count": 112,
     "metadata": {},
     "output_type": "execute_result"
    }
   ],
   "source": [
    "pd.DataFrame(loc_proba, columns=['high','low']).join(pd.DataFrame(y_cat_test).reset_index(drop=True)).head(10)"
   ]
  },
  {
   "cell_type": "code",
   "execution_count": 113,
   "metadata": {
    "scrolled": false
   },
   "outputs": [
    {
     "name": "stdout",
     "output_type": "stream",
     "text": [
      "              precision    recall  f1-score   support\n",
      "\n",
      "        high       0.46      0.73      0.56        56\n",
      "         low       0.32      0.91      0.48        57\n",
      "      medium       0.00      0.00      0.00       138\n",
      "\n",
      "   micro avg       0.37      0.37      0.37       251\n",
      "   macro avg       0.26      0.55      0.35       251\n",
      "weighted avg       0.17      0.37      0.23       251\n",
      "\n"
     ]
    },
    {
     "name": "stderr",
     "output_type": "stream",
     "text": [
      "/Users/Han/anaconda3/lib/python3.6/site-packages/sklearn/metrics/classification.py:1143: UndefinedMetricWarning: Precision and F-score are ill-defined and being set to 0.0 in labels with no predicted samples.\n",
      "  'precision', 'predicted', average, warn_for)\n",
      "/Users/Han/anaconda3/lib/python3.6/site-packages/sklearn/metrics/classification.py:1143: UndefinedMetricWarning: Precision and F-score are ill-defined and being set to 0.0 in labels with no predicted samples.\n",
      "  'precision', 'predicted', average, warn_for)\n",
      "/Users/Han/anaconda3/lib/python3.6/site-packages/sklearn/metrics/classification.py:1143: UndefinedMetricWarning: Precision and F-score are ill-defined and being set to 0.0 in labels with no predicted samples.\n",
      "  'precision', 'predicted', average, warn_for)\n"
     ]
    }
   ],
   "source": [
    "print(classification_report(y_cat_test,rfc_pred))"
   ]
  },
  {
   "cell_type": "markdown",
   "metadata": {},
   "source": [
    "#### location is a strong predictor of high and low classes\n",
    "</br>"
   ]
  },
  {
   "cell_type": "code",
   "execution_count": 114,
   "metadata": {},
   "outputs": [
    {
     "data": {
      "text/html": [
       "<div>\n",
       "<style scoped>\n",
       "    .dataframe tbody tr th:only-of-type {\n",
       "        vertical-align: middle;\n",
       "    }\n",
       "\n",
       "    .dataframe tbody tr th {\n",
       "        vertical-align: top;\n",
       "    }\n",
       "\n",
       "    .dataframe thead th {\n",
       "        text-align: right;\n",
       "    }\n",
       "</style>\n",
       "<table border=\"1\" class=\"dataframe\">\n",
       "  <thead>\n",
       "    <tr style=\"text-align: right;\">\n",
       "      <th></th>\n",
       "      <th></th>\n",
       "      <th>location</th>\n",
       "    </tr>\n",
       "    <tr>\n",
       "      <th>site</th>\n",
       "      <th>salary_band</th>\n",
       "      <th></th>\n",
       "    </tr>\n",
       "  </thead>\n",
       "  <tbody>\n",
       "    <tr>\n",
       "      <th rowspan=\"3\" valign=\"top\">SH</th>\n",
       "      <th>high</th>\n",
       "      <td>176</td>\n",
       "    </tr>\n",
       "    <tr>\n",
       "      <th>low</th>\n",
       "      <td>241</td>\n",
       "    </tr>\n",
       "    <tr>\n",
       "      <th>medium</th>\n",
       "      <td>547</td>\n",
       "    </tr>\n",
       "    <tr>\n",
       "      <th rowspan=\"3\" valign=\"top\">efc</th>\n",
       "      <th>high</th>\n",
       "      <td>22</td>\n",
       "    </tr>\n",
       "    <tr>\n",
       "      <th>low</th>\n",
       "      <td>9</td>\n",
       "    </tr>\n",
       "    <tr>\n",
       "      <th>medium</th>\n",
       "      <td>7</td>\n",
       "    </tr>\n",
       "  </tbody>\n",
       "</table>\n",
       "</div>"
      ],
      "text/plain": [
       "                  location\n",
       "site salary_band          \n",
       "SH   high              176\n",
       "     low               241\n",
       "     medium            547\n",
       "efc  high               22\n",
       "     low                 9\n",
       "     medium              7"
      ]
     },
     "execution_count": 114,
     "metadata": {},
     "output_type": "execute_result"
    }
   ],
   "source": [
    "# EDA on site - used a proxy for industry (i.e. efc is finance/banking, simplyhired is more generic)\n",
    "group = X[['site','location']].join(y).groupby(by=['site','salary_band']).count()\n",
    "group"
   ]
  },
  {
   "cell_type": "code",
   "execution_count": 115,
   "metadata": {},
   "outputs": [
    {
     "data": {
      "text/plain": [
       "SH     964\n",
       "efc     38\n",
       "Name: site, dtype: int64"
      ]
     },
     "execution_count": 115,
     "metadata": {},
     "output_type": "execute_result"
    }
   ],
   "source": [
    "X['site'].value_counts()"
   ]
  },
  {
   "cell_type": "code",
   "execution_count": 116,
   "metadata": {},
   "outputs": [],
   "source": [
    "group = group.reset_index()\n",
    "group['%'] = 1"
   ]
  },
  {
   "cell_type": "code",
   "execution_count": 117,
   "metadata": {},
   "outputs": [],
   "source": [
    "group.loc[group[group['site'] == 'SH'].index, '%'] = group.loc[group[group['site'] == 'SH'].index, 'location'] / 964\n",
    "group.loc[group[group['site'] == 'efc'].index, '%'] = group.loc[group[group['site'] == 'efc'].index, 'location'] / 38"
   ]
  },
  {
   "cell_type": "code",
   "execution_count": 118,
   "metadata": {},
   "outputs": [
    {
     "data": {
      "text/html": [
       "<div>\n",
       "<style scoped>\n",
       "    .dataframe tbody tr th:only-of-type {\n",
       "        vertical-align: middle;\n",
       "    }\n",
       "\n",
       "    .dataframe tbody tr th {\n",
       "        vertical-align: top;\n",
       "    }\n",
       "\n",
       "    .dataframe thead th {\n",
       "        text-align: right;\n",
       "    }\n",
       "</style>\n",
       "<table border=\"1\" class=\"dataframe\">\n",
       "  <thead>\n",
       "    <tr style=\"text-align: right;\">\n",
       "      <th></th>\n",
       "      <th>site</th>\n",
       "      <th>salary_band</th>\n",
       "      <th>location</th>\n",
       "      <th>%</th>\n",
       "    </tr>\n",
       "  </thead>\n",
       "  <tbody>\n",
       "    <tr>\n",
       "      <th>0</th>\n",
       "      <td>SH</td>\n",
       "      <td>high</td>\n",
       "      <td>176</td>\n",
       "      <td>0.182573</td>\n",
       "    </tr>\n",
       "    <tr>\n",
       "      <th>1</th>\n",
       "      <td>SH</td>\n",
       "      <td>low</td>\n",
       "      <td>241</td>\n",
       "      <td>0.250000</td>\n",
       "    </tr>\n",
       "    <tr>\n",
       "      <th>2</th>\n",
       "      <td>SH</td>\n",
       "      <td>medium</td>\n",
       "      <td>547</td>\n",
       "      <td>0.567427</td>\n",
       "    </tr>\n",
       "    <tr>\n",
       "      <th>3</th>\n",
       "      <td>efc</td>\n",
       "      <td>high</td>\n",
       "      <td>22</td>\n",
       "      <td>0.578947</td>\n",
       "    </tr>\n",
       "    <tr>\n",
       "      <th>4</th>\n",
       "      <td>efc</td>\n",
       "      <td>low</td>\n",
       "      <td>9</td>\n",
       "      <td>0.236842</td>\n",
       "    </tr>\n",
       "    <tr>\n",
       "      <th>5</th>\n",
       "      <td>efc</td>\n",
       "      <td>medium</td>\n",
       "      <td>7</td>\n",
       "      <td>0.184211</td>\n",
       "    </tr>\n",
       "  </tbody>\n",
       "</table>\n",
       "</div>"
      ],
      "text/plain": [
       "  site salary_band  location         %\n",
       "0   SH        high       176  0.182573\n",
       "1   SH         low       241  0.250000\n",
       "2   SH      medium       547  0.567427\n",
       "3  efc        high        22  0.578947\n",
       "4  efc         low         9  0.236842\n",
       "5  efc      medium         7  0.184211"
      ]
     },
     "execution_count": 118,
     "metadata": {},
     "output_type": "execute_result"
    }
   ],
   "source": [
    "group"
   ]
  },
  {
   "cell_type": "code",
   "execution_count": 119,
   "metadata": {},
   "outputs": [
    {
     "data": {
      "text/plain": [
       "<matplotlib.axes._subplots.AxesSubplot at 0x1a34fc0630>"
      ]
     },
     "execution_count": 119,
     "metadata": {},
     "output_type": "execute_result"
    },
    {
     "data": {
      "image/png": "[encoded data removed]",
      "text/plain": [
       "<Figure size 432x288 with 1 Axes>"
      ]
     },
     "metadata": {
      "image/png": {
       "height": 263,
       "width": 388
      },
      "needs_background": "light"
     },
     "output_type": "display_data"
    }
   ],
   "source": [
    "sns.barplot(data = group.drop('location', axis=1), y='site', x='%', hue='salary_band')"
   ]
  },
  {
   "cell_type": "code",
   "execution_count": 120,
   "metadata": {},
   "outputs": [
    {
     "data": {
      "text/plain": [
       "0.5645804806527698"
      ]
     },
     "execution_count": 120,
     "metadata": {},
     "output_type": "execute_result"
    }
   ],
   "source": [
    "X_cat = labeler.fit_transform(X[['site']]).toarray()\n",
    "X_cat_train, X_cat_test, y_cat_train, y_cat_test = train_test_split(X_cat,y,random_state=42, test_size=0.25)\n",
    "\n",
    "rfc = RandomForestClassifier(n_estimators=100)\n",
    "rfc.fit(X_cat_train, y_cat_train)\n",
    "\n",
    "rfc_pred = rfc.predict(X_cat_test)\n",
    "np.mean(cross_val_score(rfc, X_cat_train, y_cat_train, cv=3))"
   ]
  },
  {
   "cell_type": "code",
   "execution_count": 121,
   "metadata": {
    "scrolled": true
   },
   "outputs": [
    {
     "name": "stdout",
     "output_type": "stream",
     "text": [
      "              precision    recall  f1-score   support\n",
      "\n",
      "        high       0.89      0.14      0.25        56\n",
      "         low       0.00      0.00      0.00        57\n",
      "      medium       0.57      0.99      0.72       138\n",
      "\n",
      "   micro avg       0.58      0.58      0.58       251\n",
      "   macro avg       0.49      0.38      0.32       251\n",
      "weighted avg       0.51      0.58      0.45       251\n",
      "\n"
     ]
    },
    {
     "name": "stderr",
     "output_type": "stream",
     "text": [
      "/Users/Han/anaconda3/lib/python3.6/site-packages/sklearn/metrics/classification.py:1143: UndefinedMetricWarning: Precision and F-score are ill-defined and being set to 0.0 in labels with no predicted samples.\n",
      "  'precision', 'predicted', average, warn_for)\n",
      "/Users/Han/anaconda3/lib/python3.6/site-packages/sklearn/metrics/classification.py:1143: UndefinedMetricWarning: Precision and F-score are ill-defined and being set to 0.0 in labels with no predicted samples.\n",
      "  'precision', 'predicted', average, warn_for)\n",
      "/Users/Han/anaconda3/lib/python3.6/site-packages/sklearn/metrics/classification.py:1143: UndefinedMetricWarning: Precision and F-score are ill-defined and being set to 0.0 in labels with no predicted samples.\n",
      "  'precision', 'predicted', average, warn_for)\n"
     ]
    }
   ],
   "source": [
    "print(classification_report(y_cat_test,rfc_pred))"
   ]
  },
  {
   "cell_type": "markdown",
   "metadata": {},
   "source": [
    "#### site is a strong predictor of high and medium classes\n",
    "</br>"
   ]
  },
  {
   "cell_type": "code",
   "execution_count": 122,
   "metadata": {},
   "outputs": [
    {
     "data": {
      "text/plain": [
       "<matplotlib.axes._subplots.AxesSubplot at 0x1a353dd198>"
      ]
     },
     "execution_count": 122,
     "metadata": {},
     "output_type": "execute_result"
    },
    {
     "data": {
      "image/png": "[encoded data removed]",
      "text/plain": [
       "<Figure size 432x288 with 1 Axes>"
      ]
     },
     "metadata": {
      "image/png": {
       "height": 263,
       "width": 384
      },
      "needs_background": "light"
     },
     "output_type": "display_data"
    }
   ],
   "source": [
    "# month_posted\n",
    "sns.countplot(data = X[['month_posted']].join(y), y='month_posted', hue='salary_band')"
   ]
  },
  {
   "cell_type": "code",
   "execution_count": 123,
   "metadata": {},
   "outputs": [
    {
     "data": {
      "text/plain": [
       "707"
      ]
     },
     "execution_count": 123,
     "metadata": {},
     "output_type": "execute_result"
    }
   ],
   "source": [
    "# company\n",
    "X['company'].nunique()"
   ]
  },
  {
   "cell_type": "code",
   "execution_count": 124,
   "metadata": {},
   "outputs": [
    {
     "data": {
      "text/plain": [
       "0.5552945751259003"
      ]
     },
     "execution_count": 124,
     "metadata": {},
     "output_type": "execute_result"
    }
   ],
   "source": [
    "X_cat = labeler.fit_transform(X[['company']]).toarray()\n",
    "X_cat_train, X_cat_test, y_cat_train, y_cat_test = train_test_split(X_cat,y,random_state=42, test_size=0.25)\n",
    "\n",
    "rfc = RandomForestClassifier(n_estimators=100)\n",
    "rfc.fit(X_cat_train, y_cat_train)\n",
    "\n",
    "rfc_pred = rfc.predict(X_cat_test)\n",
    "np.mean(cross_val_score(rfc, X_cat_train, y_cat_train, cv=3))"
   ]
  },
  {
   "cell_type": "code",
   "execution_count": 125,
   "metadata": {},
   "outputs": [
    {
     "name": "stdout",
     "output_type": "stream",
     "text": [
      "              precision    recall  f1-score   support\n",
      "\n",
      "        high       0.52      0.20      0.29        56\n",
      "         low       0.50      0.11      0.17        57\n",
      "      medium       0.57      0.91      0.70       138\n",
      "\n",
      "   micro avg       0.57      0.57      0.57       251\n",
      "   macro avg       0.53      0.40      0.39       251\n",
      "weighted avg       0.55      0.57      0.49       251\n",
      "\n"
     ]
    }
   ],
   "source": [
    "print(classification_report(y_cat_test,rfc_pred))"
   ]
  },
  {
   "cell_type": "code",
   "execution_count": 126,
   "metadata": {},
   "outputs": [
    {
     "data": {
      "text/plain": [
       "960"
      ]
     },
     "execution_count": 126,
     "metadata": {},
     "output_type": "execute_result"
    }
   ],
   "source": [
    "tf_title = TfidfVectorizer(ngram_range=(1,1))\n",
    "tf_title.fit(X['company'])\n",
    "len(tf_title.get_feature_names())   "
   ]
  },
  {
   "cell_type": "code",
   "execution_count": 127,
   "metadata": {},
   "outputs": [
    {
     "data": {
      "text/plain": [
       "(0.5458760469011725, 0.02809759595217164)"
      ]
     },
     "execution_count": 127,
     "metadata": {},
     "output_type": "execute_result"
    }
   ],
   "source": [
    "X_train_coy = pd.DataFrame(tf_title.transform(X['company']).todense(), columns=tf_title.get_feature_names()) \n",
    "\n",
    "rfc = RandomForestClassifier(n_estimators=100)\n",
    "rfc.fit(X_train_coy, y)\n",
    "scores = cross_val_score(rfc, X_train_coy, y, cv=5)\n",
    "np.mean(scores), np.std(scores)"
   ]
  },
  {
   "cell_type": "markdown",
   "metadata": {},
   "source": [
    "#### Nothing much for month_posted and company"
   ]
  },
  {
   "cell_type": "code",
   "execution_count": 128,
   "metadata": {},
   "outputs": [],
   "source": [
    "# X_cat = labeler.fit_transform(X[['state','site','company']]).toarray()\n",
    "# X_cat_train, X_cat_test, y_cat_train, y_cat_test = train_test_split(X_cat,y,random_state=42, test_size=0.25)\n",
    "\n",
    "# rfc = RandomForestClassifier(n_estimators=100)\n",
    "# rfc.fit(X_cat_train, y_cat_train)\n",
    "\n",
    "# rfc_pred = rfc.predict(X_cat_test)\n",
    "# np.mean(cross_val_score(rfc, X_train_nlp, y_train, cv=3))"
   ]
  },
  {
   "cell_type": "markdown",
   "metadata": {},
   "source": [
    "## Try extracting years of experience from job desc"
   ]
  },
  {
   "cell_type": "code",
   "execution_count": 129,
   "metadata": {},
   "outputs": [],
   "source": [
    "import re"
   ]
  },
  {
   "cell_type": "code",
   "execution_count": 130,
   "metadata": {},
   "outputs": [],
   "source": [
    "# use regex to identify sentences which contains both 'years' and 'experience', then extract out the digits and pass into a list\n",
    "test = pd.DataFrame(columns=['list'])\n",
    "\n",
    "for i, job in enumerate(jobs['desc_clean'].str.lower()):\n",
    "     test.loc[len(test)] = [re.findall('\\+?\\d+',''.join(re.findall('[^.*]*experience[^.*]*\\.',''.join(re.findall('[^.*]*years[^.*]*\\.', job)))))]"
   ]
  },
  {
   "cell_type": "code",
   "execution_count": 131,
   "metadata": {},
   "outputs": [
    {
     "data": {
      "text/plain": [
       "list    [3, 27001, 2]\n",
       "Name: 18, dtype: object"
      ]
     },
     "execution_count": 131,
     "metadata": {},
     "output_type": "execute_result"
    }
   ],
   "source": [
    "test.loc[18]"
   ]
  },
  {
   "cell_type": "code",
   "execution_count": 132,
   "metadata": {},
   "outputs": [
    {
     "data": {
      "text/plain": [
       "[') 3+ years experience working in an Info Sec department Knowledge of ISO 27001/2, NIST, etc.']"
      ]
     },
     "execution_count": 132,
     "metadata": {},
     "output_type": "execute_result"
    }
   ],
   "source": [
    "re.findall('[^.*]*experience[^.*]*\\.',''.join(re.findall('[^.*]*years[^.*]*\\.', jobs['desc_clean'][18])))"
   ]
  },
  {
   "cell_type": "code",
   "execution_count": 133,
   "metadata": {},
   "outputs": [],
   "source": [
    "# create function to filter out unrealistically large numbers (like above)\n",
    "def drop_20(x):\n",
    "    if len(x) != 0:\n",
    "        for num in x:\n",
    "            if float(num) > 20:\n",
    "                x.pop(x.index(num))\n",
    "    else:\n",
    "        x\n",
    "    return x"
   ]
  },
  {
   "cell_type": "code",
   "execution_count": 134,
   "metadata": {},
   "outputs": [],
   "source": [
    "test_drop20 = test['list'].apply(drop_20)"
   ]
  },
  {
   "cell_type": "code",
   "execution_count": 135,
   "metadata": {},
   "outputs": [],
   "source": [
    "# get max years of experience\n",
    "year_exp = test_drop20.apply(lambda x: -1 if len(x) == 0 else max([float(char) for char in x]))\n",
    "# get number of requirements listed\n",
    "num_requirements = test_drop20.apply(len)"
   ]
  },
  {
   "cell_type": "code",
   "execution_count": 136,
   "metadata": {},
   "outputs": [
    {
     "data": {
      "text/plain": [
       "array([  5.,  -1.,  10.,   1.,   4.,   3.,   6.,   8.,   7.,   2.,  15.,\n",
       "       203.,  12.,   9.,  87.,  11.,  20.,  18.])"
      ]
     },
     "execution_count": 136,
     "metadata": {},
     "output_type": "execute_result"
    }
   ],
   "source": [
    "year_exp.unique()"
   ]
  },
  {
   "cell_type": "code",
   "execution_count": 137,
   "metadata": {},
   "outputs": [
    {
     "data": {
      "text/plain": [
       "911    20.0\n",
       "Name: list, dtype: float64"
      ]
     },
     "execution_count": 137,
     "metadata": {},
     "output_type": "execute_result"
    }
   ],
   "source": [
    "# check large numbers, see if legit or not\n",
    "year_exp[year_exp == 20]"
   ]
  },
  {
   "cell_type": "code",
   "execution_count": 138,
   "metadata": {},
   "outputs": [
    {
     "data": {
      "text/plain": [
       "[\") and 20 years related scientific/engineering experience, a Master's degree and 15 years of job related experience, or a Ph.\",\n",
       " 'D and 12 years of job related experience.',\n",
       " ' A PE License may substitute for 2 years of experience.']"
      ]
     },
     "execution_count": 138,
     "metadata": {},
     "output_type": "execute_result"
    }
   ],
   "source": [
    "re.findall('[^.*]*experience[^.*]*\\.',''.join(re.findall('[^.*]*years[^.*]*\\.', jobs['desc_clean'][911])))"
   ]
  },
  {
   "cell_type": "code",
   "execution_count": 139,
   "metadata": {},
   "outputs": [
    {
     "data": {
      "text/plain": [
       "array([ 2,  0,  1,  4,  6,  3,  5,  8, 14, 21, 12,  7, 11])"
      ]
     },
     "execution_count": 139,
     "metadata": {},
     "output_type": "execute_result"
    }
   ],
   "source": [
    "num_requirements.unique()"
   ]
  },
  {
   "cell_type": "code",
   "execution_count": 140,
   "metadata": {},
   "outputs": [
    {
     "data": {
      "text/plain": [
       "688    21\n",
       "Name: list, dtype: int64"
      ]
     },
     "execution_count": 140,
     "metadata": {},
     "output_type": "execute_result"
    }
   ],
   "source": [
    "num_requirements[num_requirements == 21]"
   ]
  },
  {
   "cell_type": "code",
   "execution_count": 141,
   "metadata": {},
   "outputs": [
    {
     "data": {
      "text/plain": [
       "[\"\\\\nMinimum Qualifications: \\\\n\\\\nMaster's Degree in Mathematics, Physics, or Computer and Information Science\\\\n(substitution: Bachelors with significant relevant work experience instead of a post-graduate degree)\\\\n\\\\n5 - 10 years in Data Analytics\\\\n5 - 7 years using Large Datasets\\\\n5 - 7 years utilizing Statistical Software\\\\n5 - 7 years in Data Visualization\\\\n3 - 5 years in Predictive Modeling\\\\n1 - 3 years in the Healthcare Industry\\\\n1 - 3 years in Research and Development\\\\n1 - 3 years in a Business Analyst role\\\\n1 - 3 years in Consulting\\\\nPreferred Qualifications: \\\\n\\\\nNatural Language Processing (NLP)\\\\nRobotic Process Automation (RPA)\\\\n1 + years of scientific research\\\\n1 + years in the Healthcare Industry\\\\nSignificant written & oral presentation experience\\\\nStatistical Analysis\\\\nReferral Award Payout Level: 2\\\\n\\\\nHighmark Health and its affiliates prohibit discrimination against qualified individuals based on their status as protected veterans or individuals with disabilities, and prohibit discrimination against all individuals based on their race, color, religion, sex, national origin, sexual orientation/gender identity or any other category protected by applicable federal, state or local law.\"]"
      ]
     },
     "execution_count": 141,
     "metadata": {},
     "output_type": "execute_result"
    }
   ],
   "source": [
    "re.findall('[^.*]*experience[^.*]*\\.',''.join(re.findall('[^.*]*years[^.*]*\\.', jobs['desc_clean'][688])))"
   ]
  },
  {
   "cell_type": "code",
   "execution_count": 142,
   "metadata": {},
   "outputs": [],
   "source": [
    "exp_test = pd.DataFrame([num_requirements,year_exp],index=['num_req','max_years']).transpose()\n",
    "jobs_test = jobs.join(exp_test)"
   ]
  },
  {
   "cell_type": "code",
   "execution_count": 143,
   "metadata": {},
   "outputs": [
    {
     "data": {
      "text/html": [
       "<div>\n",
       "<style scoped>\n",
       "    .dataframe tbody tr th:only-of-type {\n",
       "        vertical-align: middle;\n",
       "    }\n",
       "\n",
       "    .dataframe tbody tr th {\n",
       "        vertical-align: top;\n",
       "    }\n",
       "\n",
       "    .dataframe thead th {\n",
       "        text-align: right;\n",
       "    }\n",
       "</style>\n",
       "<table border=\"1\" class=\"dataframe\">\n",
       "  <thead>\n",
       "    <tr style=\"text-align: right;\">\n",
       "      <th></th>\n",
       "      <th>title</th>\n",
       "      <th>company</th>\n",
       "      <th>location</th>\n",
       "      <th>month_posted</th>\n",
       "      <th>desc_clean</th>\n",
       "      <th>avg_salary</th>\n",
       "      <th>site</th>\n",
       "      <th>salary_band</th>\n",
       "      <th>desc_nlp</th>\n",
       "      <th>title_nlp</th>\n",
       "      <th>num_req</th>\n",
       "      <th>max_years</th>\n",
       "    </tr>\n",
       "  </thead>\n",
       "  <tbody>\n",
       "    <tr>\n",
       "      <th>0</th>\n",
       "      <td>Data Scientist</td>\n",
       "      <td>Michael Page International - US</td>\n",
       "      <td>Manhattan, NY</td>\n",
       "      <td>10</td>\n",
       "      <td>. . Data Scientist who will be overseeing a te...</td>\n",
       "      <td>175000.0</td>\n",
       "      <td>efc</td>\n",
       "      <td>high</td>\n",
       "      <td>data scientist overseeing team three also will...</td>\n",
       "      <td>data scientist</td>\n",
       "      <td>2.0</td>\n",
       "      <td>5.0</td>\n",
       "    </tr>\n",
       "    <tr>\n",
       "      <th>4</th>\n",
       "      <td>Big Data Architect</td>\n",
       "      <td>Glocomms</td>\n",
       "      <td>Santa Clara, CA</td>\n",
       "      <td>8</td>\n",
       "      <td>. . A software services and solutions company ...</td>\n",
       "      <td>145000.0</td>\n",
       "      <td>efc</td>\n",
       "      <td>high</td>\n",
       "      <td>software service solution company recognized g...</td>\n",
       "      <td>big data architect</td>\n",
       "      <td>2.0</td>\n",
       "      <td>10.0</td>\n",
       "    </tr>\n",
       "    <tr>\n",
       "      <th>5</th>\n",
       "      <td>Senior Data Engineer / Architect - AWS</td>\n",
       "      <td>Digital Capital Markets Limited</td>\n",
       "      <td>New York, NY</td>\n",
       "      <td>10</td>\n",
       "      <td>. . Senior Data Engineers / Architects require...</td>\n",
       "      <td>200000.0</td>\n",
       "      <td>efc</td>\n",
       "      <td>high</td>\n",
       "      <td>senior data engineer architect required build ...</td>\n",
       "      <td>senior data engineer architect aws</td>\n",
       "      <td>1.0</td>\n",
       "      <td>1.0</td>\n",
       "    </tr>\n",
       "    <tr>\n",
       "      <th>6</th>\n",
       "      <td>Financial Services Consultant - Data Analyst</td>\n",
       "      <td>Sia Partners</td>\n",
       "      <td>New York, NY</td>\n",
       "      <td>7</td>\n",
       "      <td>. . Sia Partners NYC is searching for a Consul...</td>\n",
       "      <td>55000.0</td>\n",
       "      <td>efc</td>\n",
       "      <td>low</td>\n",
       "      <td>sia partner nyc searching consultant add growi...</td>\n",
       "      <td>financial service consultant data analyst</td>\n",
       "      <td>2.0</td>\n",
       "      <td>4.0</td>\n",
       "    </tr>\n",
       "    <tr>\n",
       "      <th>7</th>\n",
       "      <td>Senior Quant Developer</td>\n",
       "      <td>BSM Group</td>\n",
       "      <td>New York, NY</td>\n",
       "      <td>10</td>\n",
       "      <td>. . My client is a premier global leader in th...</td>\n",
       "      <td>200000.0</td>\n",
       "      <td>efc</td>\n",
       "      <td>high</td>\n",
       "      <td>client premier global leader hedge fund space ...</td>\n",
       "      <td>senior quant developer</td>\n",
       "      <td>1.0</td>\n",
       "      <td>3.0</td>\n",
       "    </tr>\n",
       "  </tbody>\n",
       "</table>\n",
       "</div>"
      ],
      "text/plain": [
       "                                          title  \\\n",
       "0                                Data Scientist   \n",
       "4                            Big Data Architect   \n",
       "5        Senior Data Engineer / Architect - AWS   \n",
       "6  Financial Services Consultant - Data Analyst   \n",
       "7                        Senior Quant Developer   \n",
       "\n",
       "                           company         location  month_posted  \\\n",
       "0  Michael Page International - US    Manhattan, NY            10   \n",
       "4                         Glocomms  Santa Clara, CA             8   \n",
       "5  Digital Capital Markets Limited     New York, NY            10   \n",
       "6                     Sia Partners     New York, NY             7   \n",
       "7                        BSM Group     New York, NY            10   \n",
       "\n",
       "                                          desc_clean  avg_salary site  \\\n",
       "0  . . Data Scientist who will be overseeing a te...    175000.0  efc   \n",
       "4  . . A software services and solutions company ...    145000.0  efc   \n",
       "5  . . Senior Data Engineers / Architects require...    200000.0  efc   \n",
       "6  . . Sia Partners NYC is searching for a Consul...     55000.0  efc   \n",
       "7  . . My client is a premier global leader in th...    200000.0  efc   \n",
       "\n",
       "  salary_band                                           desc_nlp  \\\n",
       "0        high  data scientist overseeing team three also will...   \n",
       "4        high  software service solution company recognized g...   \n",
       "5        high  senior data engineer architect required build ...   \n",
       "6         low  sia partner nyc searching consultant add growi...   \n",
       "7        high  client premier global leader hedge fund space ...   \n",
       "\n",
       "                                   title_nlp  num_req  max_years  \n",
       "0                             data scientist      2.0        5.0  \n",
       "4                         big data architect      2.0       10.0  \n",
       "5         senior data engineer architect aws      1.0        1.0  \n",
       "6  financial service consultant data analyst      2.0        4.0  \n",
       "7                     senior quant developer      1.0        3.0  "
      ]
     },
     "execution_count": 143,
     "metadata": {},
     "output_type": "execute_result"
    }
   ],
   "source": [
    "# drop rows with null values to try first\n",
    "jobs_test_drop = jobs_test[jobs_test['max_years'] != -1]\n",
    "jobs_test_drop.head()"
   ]
  },
  {
   "cell_type": "code",
   "execution_count": 144,
   "metadata": {},
   "outputs": [
    {
     "data": {
      "text/plain": [
       "<matplotlib.axes._subplots.AxesSubplot at 0x1a35e3d080>"
      ]
     },
     "execution_count": 144,
     "metadata": {},
     "output_type": "execute_result"
    },
    {
     "data": {
      "image/png": "[encoded data removed]",
      "text/plain": [
       "<Figure size 432x288 with 1 Axes>"
      ]
     },
     "metadata": {
      "image/png": {
       "height": 250,
       "width": 377
      },
      "needs_background": "light"
     },
     "output_type": "display_data"
    }
   ],
   "source": [
    "jobs_test_drop['max_years'].hist(grid=False, bins=20)"
   ]
  },
  {
   "cell_type": "code",
   "execution_count": 145,
   "metadata": {},
   "outputs": [
    {
     "data": {
      "text/plain": [
       "<matplotlib.axes._subplots.AxesSubplot at 0x1a3758b860>"
      ]
     },
     "execution_count": 145,
     "metadata": {},
     "output_type": "execute_result"
    },
    {
     "data": {
      "image/png": "[encoded data removed]",
      "text/plain": [
       "<Figure size 432x288 with 1 Axes>"
      ]
     },
     "metadata": {
      "image/png": {
       "height": 263,
       "width": 410
      },
      "needs_background": "light"
     },
     "output_type": "display_data"
    }
   ],
   "source": [
    "#not looking good... not linear and many weird 'outliers'\n",
    "sns.scatterplot(y='avg_salary',x='max_years',data=jobs_test_drop)"
   ]
  },
  {
   "cell_type": "code",
   "execution_count": 146,
   "metadata": {},
   "outputs": [
    {
     "data": {
      "text/plain": [
       "<matplotlib.axes._subplots.AxesSubplot at 0x1a376202e8>"
      ]
     },
     "execution_count": 146,
     "metadata": {},
     "output_type": "execute_result"
    },
    {
     "data": {
      "image/png": "[encoded data removed]",
      "text/plain": [
       "<Figure size 432x288 with 1 Axes>"
      ]
     },
     "metadata": {
      "image/png": {
       "height": 263,
       "width": 410
      },
      "needs_background": "light"
     },
     "output_type": "display_data"
    }
   ],
   "source": [
    "sns.scatterplot(y='avg_salary',x='num_req',data=jobs_test_drop)"
   ]
  },
  {
   "cell_type": "code",
   "execution_count": 147,
   "metadata": {},
   "outputs": [],
   "source": [
    "test_X = jobs_test_drop.loc[:,['max_years']]\n",
    "test_y = jobs_test_drop['salary_band']"
   ]
  },
  {
   "cell_type": "code",
   "execution_count": 148,
   "metadata": {},
   "outputs": [],
   "source": [
    "test_X_train, test_X_test, test_y_train, test_y_test = train_test_split(test_X,test_y,random_state=42, test_size=0.25)"
   ]
  },
  {
   "cell_type": "code",
   "execution_count": 149,
   "metadata": {},
   "outputs": [
    {
     "data": {
      "text/plain": [
       "0.5272625264885328"
      ]
     },
     "execution_count": 149,
     "metadata": {},
     "output_type": "execute_result"
    }
   ],
   "source": [
    "rfc = RandomForestClassifier(n_estimators=100)\n",
    "rfc.fit(test_X_train, test_y_train)\n",
    "\n",
    "rfc_pred = rfc.predict(test_X_test)\n",
    "np.mean(cross_val_score(rfc, test_X_train, test_y_train, cv=3))"
   ]
  },
  {
   "cell_type": "code",
   "execution_count": 150,
   "metadata": {
    "scrolled": true
   },
   "outputs": [
    {
     "name": "stdout",
     "output_type": "stream",
     "text": [
      "              precision    recall  f1-score   support\n",
      "\n",
      "        high       0.29      0.11      0.15        38\n",
      "         low       0.00      0.00      0.00        39\n",
      "      medium       0.48      0.88      0.62        76\n",
      "\n",
      "   micro avg       0.46      0.46      0.46       153\n",
      "   macro avg       0.26      0.33      0.26       153\n",
      "weighted avg       0.31      0.46      0.35       153\n",
      "\n"
     ]
    },
    {
     "name": "stderr",
     "output_type": "stream",
     "text": [
      "/Users/Han/anaconda3/lib/python3.6/site-packages/sklearn/metrics/classification.py:1143: UndefinedMetricWarning: Precision and F-score are ill-defined and being set to 0.0 in labels with no predicted samples.\n",
      "  'precision', 'predicted', average, warn_for)\n",
      "/Users/Han/anaconda3/lib/python3.6/site-packages/sklearn/metrics/classification.py:1143: UndefinedMetricWarning: Precision and F-score are ill-defined and being set to 0.0 in labels with no predicted samples.\n",
      "  'precision', 'predicted', average, warn_for)\n",
      "/Users/Han/anaconda3/lib/python3.6/site-packages/sklearn/metrics/classification.py:1143: UndefinedMetricWarning: Precision and F-score are ill-defined and being set to 0.0 in labels with no predicted samples.\n",
      "  'precision', 'predicted', average, warn_for)\n"
     ]
    }
   ],
   "source": [
    "#sad\n",
    "print(classification_report(test_y_test,rfc_pred))"
   ]
  },
  {
   "cell_type": "markdown",
   "metadata": {},
   "source": [
    "## Ensembling\n",
    "\n",
    "\n",
    "as a recap, \n",
    "   - desc works pretty well in general (for all 3 classes)\n",
    "   - title works well in predicting high and low classes\n",
    "   - location works well in predicting high and low classes\n",
    "   - site works well in predicting high and medium classes"
   ]
  },
  {
   "cell_type": "code",
   "execution_count": 151,
   "metadata": {},
   "outputs": [],
   "source": [
    "X = jobs.loc[:,['company','location','month_posted','desc_nlp','title_nlp','site']]\n",
    "y = jobs['salary_band']"
   ]
  },
  {
   "cell_type": "code",
   "execution_count": 152,
   "metadata": {},
   "outputs": [],
   "source": [
    "ensemble = pd.DataFrame(columns=['desc', 'site', 'location', 'title', 'final_pred'])"
   ]
  },
  {
   "cell_type": "code",
   "execution_count": 153,
   "metadata": {},
   "outputs": [],
   "source": [
    "X_train, X_test, y_train, y_test = train_test_split(X,y,random_state=42, test_size=0.25)"
   ]
  },
  {
   "cell_type": "code",
   "execution_count": 154,
   "metadata": {},
   "outputs": [
    {
     "data": {
      "text/plain": [
       "14240"
      ]
     },
     "execution_count": 154,
     "metadata": {},
     "output_type": "execute_result"
    }
   ],
   "source": [
    "cv_desc = CountVectorizer(ngram_range=(1,1))\n",
    "cv_desc.fit(X_train['desc_nlp'])\n",
    "len(cv_desc.get_feature_names())    "
   ]
  },
  {
   "cell_type": "code",
   "execution_count": 155,
   "metadata": {},
   "outputs": [],
   "source": [
    "X_train_desc = pd.DataFrame(cv_desc.transform(X_train['desc_nlp']).todense(), \\\n",
    "                            columns=[x+'_desc' for x in cv_desc.get_feature_names()]) \n",
    "X_test_desc = pd.DataFrame(cv_desc.transform(X_test['desc_nlp']).todense(), \\\n",
    "                            columns=[x+'_desc' for x in cv_desc.get_feature_names()]) "
   ]
  },
  {
   "cell_type": "code",
   "execution_count": 156,
   "metadata": {},
   "outputs": [],
   "source": [
    "nb_desc = MultinomialNB()\n",
    "nb_desc.fit(X_train_desc, y_train)\n",
    "desc_pred = nb_desc.predict(X_test_desc)\n",
    "# np.mean(cross_val_score(nb, X_train_desc, y_train, cv=3))"
   ]
  },
  {
   "cell_type": "code",
   "execution_count": 157,
   "metadata": {},
   "outputs": [
    {
     "name": "stdout",
     "output_type": "stream",
     "text": [
      "              precision    recall  f1-score   support\n",
      "\n",
      "        high       0.76      0.23      0.36        56\n",
      "         low       0.63      0.33      0.44        57\n",
      "      medium       0.62      0.92      0.74       138\n",
      "\n",
      "   micro avg       0.63      0.63      0.63       251\n",
      "   macro avg       0.67      0.50      0.51       251\n",
      "weighted avg       0.66      0.63      0.59       251\n",
      "\n"
     ]
    }
   ],
   "source": [
    "# best model so far\n",
    "print(classification_report(y_test,desc_pred))"
   ]
  },
  {
   "cell_type": "code",
   "execution_count": 158,
   "metadata": {},
   "outputs": [],
   "source": [
    "ensemble['desc'] = desc_pred"
   ]
  },
  {
   "cell_type": "code",
   "execution_count": 159,
   "metadata": {},
   "outputs": [],
   "source": [
    "X_cat = labeler.fit_transform(X[['site']]).toarray()\n",
    "X_cat_train, X_cat_test, y_cat_train, y_cat_test = train_test_split(X_cat,y,random_state=42, test_size=0.25)\n",
    "\n",
    "rfc_site = RandomForestClassifier(n_estimators=100)\n",
    "rfc_site.fit(X_cat_train, y_cat_train)\n",
    "\n",
    "site_pred = rfc_site.predict(X_cat_test)\n",
    "# np.mean(cross_val_score(rfc, X_cat_train, y_cat_train, cv=3))"
   ]
  },
  {
   "cell_type": "code",
   "execution_count": 160,
   "metadata": {},
   "outputs": [],
   "source": [
    "ensemble['site'] = site_pred"
   ]
  },
  {
   "cell_type": "code",
   "execution_count": 161,
   "metadata": {},
   "outputs": [],
   "source": [
    "X['state'] = X['location'].apply(lambda x: x.split(',')[-1])\n",
    "X_cat = labeler.fit_transform(X[['state']]).toarray()\n",
    "X_cat_train, X_cat_test, y_cat_train, y_cat_test = train_test_split(X_cat,y,random_state=42, test_size=0.25)\n",
    "\n",
    "X_cat_train_ = X_cat_train[y_cat_train != 'medium']\n",
    "y_cat_train_ = y_cat_train[y_cat_train != 'medium']\n",
    "\n",
    "rfc_loc = RandomForestClassifier(n_estimators=100)\n",
    "rfc_loc.fit(X_cat_train_, y_cat_train_)\n",
    "\n",
    "loc_pred = rfc_loc.predict(X_cat_test)\n",
    "# np.mean(cross_val_score(rfc, X_cat_train, y_cat_train, cv=3))"
   ]
  },
  {
   "cell_type": "code",
   "execution_count": 162,
   "metadata": {},
   "outputs": [],
   "source": [
    "ensemble['location'] = loc_pred"
   ]
  },
  {
   "cell_type": "code",
   "execution_count": 163,
   "metadata": {},
   "outputs": [],
   "source": [
    "X_train_title = pd.DataFrame(cv_title.transform(X_train[y_train != 'medium']['title_nlp']).todense(), \\\n",
    "                            columns=[x+'_title' for x in cv_title.get_feature_names()]) \n",
    "X_test_title = pd.DataFrame(cv_title.transform(X_test['title_nlp']).todense(), \\\n",
    "                            columns=[x+'_title' for x in cv_title.get_feature_names()]) \n",
    "\n",
    "rfc_title = RandomForestClassifier(n_estimators=100)\n",
    "rfc_title.fit(X_train_title, y_train[y_train != 'medium'])\n",
    "title_pred = rfc_title.predict(X_test_title)"
   ]
  },
  {
   "cell_type": "code",
   "execution_count": 164,
   "metadata": {},
   "outputs": [],
   "source": [
    "ensemble['title'] = title_pred"
   ]
  },
  {
   "cell_type": "code",
   "execution_count": 165,
   "metadata": {},
   "outputs": [
    {
     "data": {
      "text/html": [
       "<div>\n",
       "<style scoped>\n",
       "    .dataframe tbody tr th:only-of-type {\n",
       "        vertical-align: middle;\n",
       "    }\n",
       "\n",
       "    .dataframe tbody tr th {\n",
       "        vertical-align: top;\n",
       "    }\n",
       "\n",
       "    .dataframe thead th {\n",
       "        text-align: right;\n",
       "    }\n",
       "</style>\n",
       "<table border=\"1\" class=\"dataframe\">\n",
       "  <thead>\n",
       "    <tr style=\"text-align: right;\">\n",
       "      <th></th>\n",
       "      <th>desc</th>\n",
       "      <th>site</th>\n",
       "      <th>location</th>\n",
       "      <th>title</th>\n",
       "      <th>final_pred</th>\n",
       "    </tr>\n",
       "  </thead>\n",
       "  <tbody>\n",
       "    <tr>\n",
       "      <th>0</th>\n",
       "      <td>medium</td>\n",
       "      <td>medium</td>\n",
       "      <td>low</td>\n",
       "      <td>high</td>\n",
       "      <td>NaN</td>\n",
       "    </tr>\n",
       "    <tr>\n",
       "      <th>1</th>\n",
       "      <td>low</td>\n",
       "      <td>medium</td>\n",
       "      <td>high</td>\n",
       "      <td>low</td>\n",
       "      <td>NaN</td>\n",
       "    </tr>\n",
       "    <tr>\n",
       "      <th>2</th>\n",
       "      <td>medium</td>\n",
       "      <td>medium</td>\n",
       "      <td>low</td>\n",
       "      <td>low</td>\n",
       "      <td>NaN</td>\n",
       "    </tr>\n",
       "    <tr>\n",
       "      <th>3</th>\n",
       "      <td>medium</td>\n",
       "      <td>medium</td>\n",
       "      <td>low</td>\n",
       "      <td>low</td>\n",
       "      <td>NaN</td>\n",
       "    </tr>\n",
       "    <tr>\n",
       "      <th>4</th>\n",
       "      <td>low</td>\n",
       "      <td>medium</td>\n",
       "      <td>high</td>\n",
       "      <td>low</td>\n",
       "      <td>NaN</td>\n",
       "    </tr>\n",
       "    <tr>\n",
       "      <th>5</th>\n",
       "      <td>medium</td>\n",
       "      <td>medium</td>\n",
       "      <td>low</td>\n",
       "      <td>low</td>\n",
       "      <td>NaN</td>\n",
       "    </tr>\n",
       "    <tr>\n",
       "      <th>6</th>\n",
       "      <td>medium</td>\n",
       "      <td>medium</td>\n",
       "      <td>low</td>\n",
       "      <td>low</td>\n",
       "      <td>NaN</td>\n",
       "    </tr>\n",
       "    <tr>\n",
       "      <th>7</th>\n",
       "      <td>medium</td>\n",
       "      <td>medium</td>\n",
       "      <td>high</td>\n",
       "      <td>high</td>\n",
       "      <td>NaN</td>\n",
       "    </tr>\n",
       "    <tr>\n",
       "      <th>8</th>\n",
       "      <td>medium</td>\n",
       "      <td>medium</td>\n",
       "      <td>low</td>\n",
       "      <td>low</td>\n",
       "      <td>NaN</td>\n",
       "    </tr>\n",
       "    <tr>\n",
       "      <th>9</th>\n",
       "      <td>low</td>\n",
       "      <td>medium</td>\n",
       "      <td>high</td>\n",
       "      <td>low</td>\n",
       "      <td>NaN</td>\n",
       "    </tr>\n",
       "  </tbody>\n",
       "</table>\n",
       "</div>"
      ],
      "text/plain": [
       "     desc    site location title final_pred\n",
       "0  medium  medium      low  high        NaN\n",
       "1     low  medium     high   low        NaN\n",
       "2  medium  medium      low   low        NaN\n",
       "3  medium  medium      low   low        NaN\n",
       "4     low  medium     high   low        NaN\n",
       "5  medium  medium      low   low        NaN\n",
       "6  medium  medium      low   low        NaN\n",
       "7  medium  medium     high  high        NaN\n",
       "8  medium  medium      low   low        NaN\n",
       "9     low  medium     high   low        NaN"
      ]
     },
     "execution_count": 165,
     "metadata": {},
     "output_type": "execute_result"
    }
   ],
   "source": [
    "ensemble.head(10)"
   ]
  },
  {
   "cell_type": "code",
   "execution_count": 166,
   "metadata": {},
   "outputs": [],
   "source": [
    "# manual voting - logic derived by comparing classification reports (see above recap)\n",
    "prediction = []\n",
    "for i in range(len(ensemble)):\n",
    "    if ensemble.iloc[i,0] == 'medium' and ensemble.iloc[i,1] == 'medium':\n",
    "        prediction.append('medium')\n",
    "    elif ensemble.iloc[i,2] == 'high' and ensemble.iloc[i,3] == 'high':\n",
    "        prediction.append('high')\n",
    "    elif (ensemble.iloc[20,:4].value_counts()[0] - ensemble.iloc[20,:4].value_counts()[1]) == 0:\n",
    "        prediction.append(ensemble.iloc[i,0])\n",
    "    else:\n",
    "        prediction.append(ensemble.iloc[i,:4].value_counts().index[0])"
   ]
  },
  {
   "cell_type": "code",
   "execution_count": 167,
   "metadata": {},
   "outputs": [],
   "source": [
    "ensemble['final_pred'] = prediction"
   ]
  },
  {
   "cell_type": "code",
   "execution_count": 168,
   "metadata": {
    "scrolled": true
   },
   "outputs": [
    {
     "name": "stdout",
     "output_type": "stream",
     "text": [
      "              precision    recall  f1-score   support\n",
      "\n",
      "        high       0.85      0.30      0.45        56\n",
      "         low       0.66      0.33      0.44        57\n",
      "      medium       0.63      0.92      0.75       138\n",
      "\n",
      "   micro avg       0.65      0.65      0.65       251\n",
      "   macro avg       0.71      0.52      0.55       251\n",
      "weighted avg       0.68      0.65      0.61       251\n",
      "\n"
     ]
    }
   ],
   "source": [
    "#improved!\n",
    "print(classification_report(y_test,prediction))"
   ]
  },
  {
   "cell_type": "code",
   "execution_count": 169,
   "metadata": {},
   "outputs": [
    {
     "name": "stdout",
     "output_type": "stream",
     "text": [
      "[[ 17   2  37]\n",
      " [  0  19  38]\n",
      " [  3   8 127]]\n"
     ]
    }
   ],
   "source": [
    "print(confusion_matrix(y_test,prediction))"
   ]
  },
  {
   "cell_type": "code",
   "execution_count": 170,
   "metadata": {},
   "outputs": [
    {
     "name": "stdout",
     "output_type": "stream",
     "text": [
      "[[ 13   4  39]\n",
      " [  0  19  38]\n",
      " [  4   7 127]]\n"
     ]
    }
   ],
   "source": [
    "print(confusion_matrix(y_test,desc_pred))"
   ]
  },
  {
   "cell_type": "code",
   "execution_count": 171,
   "metadata": {},
   "outputs": [],
   "source": [
    "# ensemble model helped improved f1-score of 'high' class\n",
    "# still cant really differentiate bwt low vs medium "
   ]
  },
  {
   "cell_type": "markdown",
   "metadata": {},
   "source": [
    "### QUESTION 2: Factors that distinguish job category\n",
    "\n",
    "Using the job postings you scraped for part 1 (or potentially new job postings from a second round of scraping), identify features in the data related to job postings that can distinguish job titles from each other. There are a variety of interesting ways you can frame the target variable, for example:\n",
    "- What components of a job posting distinguish data scientists from other data jobs?\n",
    "- What features are important for distinguishing junior vs. senior positions?\n",
    "- Do the requirements for titles vary significantly with industry (e.g. healthcare vs. government)?\n",
    "\n",
    "You may end up making multiple classification models to tackle different questions. Be sure to clearly explain your hypotheses and framing, any feature engineering, and what your target variables are. The type of classification model you choose is up to you. Be sure to interpret your results and evaluate your models' performance.\n",
    "\n",
    "\n"
   ]
  },
  {
   "cell_type": "code",
   "execution_count": 173,
   "metadata": {},
   "outputs": [],
   "source": [
    "# https://www.dropbox.com/s/3ggfy4s6ur9dlb5/alljobs.csv?dl=0\n",
    "sg_jobs = pd.read_csv('/Users/Han/Downloads/alljobs.csv', index_col=0)"
   ]
  },
  {
   "cell_type": "code",
   "execution_count": 174,
   "metadata": {},
   "outputs": [],
   "source": [
    "us_jobs = jobs.copy()"
   ]
  },
  {
   "cell_type": "code",
   "execution_count": 175,
   "metadata": {
    "scrolled": true
   },
   "outputs": [
    {
     "data": {
      "text/plain": [
       "((914, 10), (1002, 10))"
      ]
     },
     "execution_count": 175,
     "metadata": {},
     "output_type": "execute_result"
    }
   ],
   "source": [
    "sg_jobs.shape, us_jobs.shape"
   ]
  },
  {
   "cell_type": "code",
   "execution_count": 176,
   "metadata": {},
   "outputs": [
    {
     "data": {
      "text/html": [
       "<div>\n",
       "<style scoped>\n",
       "    .dataframe tbody tr th:only-of-type {\n",
       "        vertical-align: middle;\n",
       "    }\n",
       "\n",
       "    .dataframe tbody tr th {\n",
       "        vertical-align: top;\n",
       "    }\n",
       "\n",
       "    .dataframe thead th {\n",
       "        text-align: right;\n",
       "    }\n",
       "</style>\n",
       "<table border=\"1\" class=\"dataframe\">\n",
       "  <thead>\n",
       "    <tr style=\"text-align: right;\">\n",
       "      <th></th>\n",
       "      <th>title</th>\n",
       "      <th>company</th>\n",
       "      <th>location</th>\n",
       "      <th>month_posted</th>\n",
       "      <th>desc_clean</th>\n",
       "      <th>avg_salary</th>\n",
       "      <th>site</th>\n",
       "      <th>salary_band</th>\n",
       "      <th>desc_nlp</th>\n",
       "      <th>title_nlp</th>\n",
       "    </tr>\n",
       "  </thead>\n",
       "  <tbody>\n",
       "    <tr>\n",
       "      <th>0</th>\n",
       "      <td>Data Scientist</td>\n",
       "      <td>Michael Page International - US</td>\n",
       "      <td>Manhattan, NY</td>\n",
       "      <td>10</td>\n",
       "      <td>. . Data Scientist who will be overseeing a te...</td>\n",
       "      <td>175000.0</td>\n",
       "      <td>efc</td>\n",
       "      <td>high</td>\n",
       "      <td>data scientist overseeing team three also will...</td>\n",
       "      <td>data scientist</td>\n",
       "    </tr>\n",
       "    <tr>\n",
       "      <th>1</th>\n",
       "      <td>Data Engineer</td>\n",
       "      <td>Glocomms</td>\n",
       "      <td>New York, NY</td>\n",
       "      <td>9</td>\n",
       "      <td>. . A cybersecurity Start-up is seeking a Data...</td>\n",
       "      <td>135000.0</td>\n",
       "      <td>efc</td>\n",
       "      <td>medium</td>\n",
       "      <td>cybersecurity startup seeking data engineer he...</td>\n",
       "      <td>data engineer</td>\n",
       "    </tr>\n",
       "    <tr>\n",
       "      <th>2</th>\n",
       "      <td>Data Engineer</td>\n",
       "      <td>Glocomms</td>\n",
       "      <td>New York, NY</td>\n",
       "      <td>8</td>\n",
       "      <td>. . A software services and solutions company ...</td>\n",
       "      <td>125000.0</td>\n",
       "      <td>efc</td>\n",
       "      <td>medium</td>\n",
       "      <td>software service solution company recognized g...</td>\n",
       "      <td>data engineer</td>\n",
       "    </tr>\n",
       "    <tr>\n",
       "      <th>3</th>\n",
       "      <td>Senior Machine Learning Software Engineer for ...</td>\n",
       "      <td>Jove International</td>\n",
       "      <td>New York, NY</td>\n",
       "      <td>10</td>\n",
       "      <td>. . This firm have an incredibly strong track ...</td>\n",
       "      <td>400000.0</td>\n",
       "      <td>efc</td>\n",
       "      <td>high</td>\n",
       "      <td>firm incredibly strong track record within sys...</td>\n",
       "      <td>senior machine learning software engineer lead...</td>\n",
       "    </tr>\n",
       "    <tr>\n",
       "      <th>4</th>\n",
       "      <td>Big Data Architect</td>\n",
       "      <td>Glocomms</td>\n",
       "      <td>Santa Clara, CA</td>\n",
       "      <td>8</td>\n",
       "      <td>. . A software services and solutions company ...</td>\n",
       "      <td>145000.0</td>\n",
       "      <td>efc</td>\n",
       "      <td>high</td>\n",
       "      <td>software service solution company recognized g...</td>\n",
       "      <td>big data architect</td>\n",
       "    </tr>\n",
       "  </tbody>\n",
       "</table>\n",
       "</div>"
      ],
      "text/plain": [
       "                                               title  \\\n",
       "0                                     Data Scientist   \n",
       "1                                      Data Engineer   \n",
       "2                                      Data Engineer   \n",
       "3  Senior Machine Learning Software Engineer for ...   \n",
       "4                                 Big Data Architect   \n",
       "\n",
       "                           company         location  month_posted  \\\n",
       "0  Michael Page International - US    Manhattan, NY            10   \n",
       "1                         Glocomms     New York, NY             9   \n",
       "2                         Glocomms     New York, NY             8   \n",
       "3               Jove International     New York, NY            10   \n",
       "4                         Glocomms  Santa Clara, CA             8   \n",
       "\n",
       "                                          desc_clean  avg_salary site  \\\n",
       "0  . . Data Scientist who will be overseeing a te...    175000.0  efc   \n",
       "1  . . A cybersecurity Start-up is seeking a Data...    135000.0  efc   \n",
       "2  . . A software services and solutions company ...    125000.0  efc   \n",
       "3  . . This firm have an incredibly strong track ...    400000.0  efc   \n",
       "4  . . A software services and solutions company ...    145000.0  efc   \n",
       "\n",
       "  salary_band                                           desc_nlp  \\\n",
       "0        high  data scientist overseeing team three also will...   \n",
       "1      medium  cybersecurity startup seeking data engineer he...   \n",
       "2      medium  software service solution company recognized g...   \n",
       "3        high  firm incredibly strong track record within sys...   \n",
       "4        high  software service solution company recognized g...   \n",
       "\n",
       "                                           title_nlp  \n",
       "0                                     data scientist  \n",
       "1                                      data engineer  \n",
       "2                                      data engineer  \n",
       "3  senior machine learning software engineer lead...  \n",
       "4                                 big data architect  "
      ]
     },
     "execution_count": 176,
     "metadata": {},
     "output_type": "execute_result"
    }
   ],
   "source": [
    "us_jobs.head()"
   ]
  },
  {
   "cell_type": "code",
   "execution_count": 177,
   "metadata": {},
   "outputs": [],
   "source": [
    "all_jobs = pd.DataFrame(columns=['title','company','avg_salary','desc','location'])\n",
    "us_temp = us_jobs.loc[:, ['title_nlp','company', 'avg_salary','desc_nlp','location']]\n",
    "sg_temp = sg_jobs.loc[:,['job_title', 'company_name','salary_avg', 'job_description','requirements']]"
   ]
  },
  {
   "cell_type": "code",
   "execution_count": 178,
   "metadata": {
    "scrolled": true
   },
   "outputs": [],
   "source": [
    "us_temp.columns = ['title','company','avg_salary','desc','location']\n",
    "us_temp['location'] = 'USA'"
   ]
  },
  {
   "cell_type": "code",
   "execution_count": 179,
   "metadata": {
    "scrolled": true
   },
   "outputs": [],
   "source": [
    "sg_temp['desc'] = sg_temp['job_description'] + sg_temp['requirements']\n",
    "sg_temp['location'] = 'SG'\n",
    "sg_temp.drop(['job_description','requirements'],axis=1,inplace=True)\n",
    "sg_temp.reset_index(drop=True, inplace=True)"
   ]
  },
  {
   "cell_type": "code",
   "execution_count": 180,
   "metadata": {},
   "outputs": [],
   "source": [
    "sg_temp.columns = ['title','company','avg_salary','desc','location']\n",
    "sg_temp['desc'] = clean_pipeline(sg_temp['desc'])\n",
    "sg_temp['title'] = clean_pipeline(sg_temp['title'])"
   ]
  },
  {
   "cell_type": "code",
   "execution_count": 181,
   "metadata": {},
   "outputs": [],
   "source": [
    "sg_temp['company'] = lower_case(sg_temp['company'])\n",
    "sg_temp['company'] = remove_punc(sg_temp['company'])\n",
    "\n",
    "us_temp['company'] = lower_case(us_temp['company'])\n",
    "us_temp['company'] = remove_punc(us_temp['company'])"
   ]
  },
  {
   "cell_type": "code",
   "execution_count": 182,
   "metadata": {},
   "outputs": [],
   "source": [
    "all_jobs = pd.concat([us_temp, sg_temp]).reset_index(drop=True)"
   ]
  },
  {
   "cell_type": "code",
   "execution_count": 183,
   "metadata": {},
   "outputs": [
    {
     "name": "stderr",
     "output_type": "stream",
     "text": [
      "/Users/Han/anaconda3/lib/python3.6/site-packages/scipy/stats/stats.py:1713: FutureWarning: Using a non-tuple sequence for multidimensional indexing is deprecated; use `arr[tuple(seq)]` instead of `arr[seq]`. In the future this will be interpreted as an array index, `arr[np.array(seq)]`, which will result either in an error or a different result.\n",
      "  return np.add.reduce(sorted[indexer] * weights, axis=axis) / sumval\n"
     ]
    },
    {
     "data": {
      "image/png": "[encoded data removed]",
      "text/plain": [
       "<Figure size 576x360 with 1 Axes>"
      ]
     },
     "metadata": {
      "image/png": {
       "height": 318,
       "width": 517
      },
      "needs_background": "light"
     },
     "output_type": "display_data"
    }
   ],
   "source": [
    "#didnt adjust for fx - assume income tax rate balances out... lol\n",
    "plt.figure(figsize=(8,5))\n",
    "sns.distplot(us_jobs['avg_salary'])\n",
    "sns.distplot((sg_jobs['salary_avg']*12))\n",
    "plt.show()"
   ]
  },
  {
   "cell_type": "code",
   "execution_count": 184,
   "metadata": {},
   "outputs": [],
   "source": [
    "X = all_jobs.drop('location', axis=1)\n",
    "y = all_jobs['location']\n",
    "X_train, X_test, y_train, y_test = train_test_split(X,y,random_state=42, test_size=0.3)"
   ]
  },
  {
   "cell_type": "code",
   "execution_count": 185,
   "metadata": {},
   "outputs": [
    {
     "data": {
      "text/plain": [
       "USA    1002\n",
       "SG      914\n",
       "Name: location, dtype: int64"
      ]
     },
     "execution_count": 185,
     "metadata": {},
     "output_type": "execute_result"
    }
   ],
   "source": [
    "y.value_counts()"
   ]
  },
  {
   "cell_type": "code",
   "execution_count": 186,
   "metadata": {},
   "outputs": [
    {
     "data": {
      "text/plain": [
       "17257"
      ]
     },
     "execution_count": 186,
     "metadata": {},
     "output_type": "execute_result"
    }
   ],
   "source": [
    "cv_desc = CountVectorizer(ngram_range=(1,1))\n",
    "cv_desc.fit(X_train['desc'])\n",
    "len(cv_desc.get_feature_names())   "
   ]
  },
  {
   "cell_type": "code",
   "execution_count": 187,
   "metadata": {},
   "outputs": [],
   "source": [
    "X_train_desc = pd.DataFrame(cv_desc.transform(X_train['desc']).todense(), \\\n",
    "                            columns=[x+'_desc' for x in cv_desc.get_feature_names()]) \n",
    "X_test_desc = pd.DataFrame(cv_desc.transform(X_test['desc']).todense(), \\\n",
    "                            columns=[x+'_desc' for x in cv_desc.get_feature_names()])"
   ]
  },
  {
   "cell_type": "code",
   "execution_count": 188,
   "metadata": {},
   "outputs": [
    {
     "data": {
      "text/plain": [
       "0.9321416568854647"
      ]
     },
     "execution_count": 188,
     "metadata": {},
     "output_type": "execute_result"
    }
   ],
   "source": [
    "rfc = RandomForestClassifier(n_estimators=100)\n",
    "rfc.fit(X_train_desc, y_train)\n",
    "desc_pred = rfc.predict(X_test_desc)\n",
    "np.mean(cross_val_score(rfc, X_train_desc, y_train, cv=3))"
   ]
  },
  {
   "cell_type": "code",
   "execution_count": 189,
   "metadata": {},
   "outputs": [
    {
     "name": "stdout",
     "output_type": "stream",
     "text": [
      "              precision    recall  f1-score   support\n",
      "\n",
      "          SG       0.96      0.92      0.94       268\n",
      "         USA       0.93      0.97      0.95       307\n",
      "\n",
      "   micro avg       0.94      0.94      0.94       575\n",
      "   macro avg       0.95      0.94      0.94       575\n",
      "weighted avg       0.94      0.94      0.94       575\n",
      "\n"
     ]
    }
   ],
   "source": [
    "print(classification_report(y_test,desc_pred))"
   ]
  },
  {
   "cell_type": "code",
   "execution_count": 190,
   "metadata": {},
   "outputs": [
    {
     "data": {
      "image/png": "[encoded data removed]",
      "text/plain": [
       "<Figure size 576x360 with 1 Axes>"
      ]
     },
     "metadata": {
      "image/png": {
       "height": 304,
       "width": 568
      },
      "needs_background": "light"
     },
     "output_type": "display_data"
    }
   ],
   "source": [
    "rfc_model = pd.DataFrame(data=rfc.feature_importances_, index=X_train_desc.columns, columns=['beta'])\n",
    "rfc_model = rfc_model[rfc_model['beta'] != 0].sort_values(by='beta', ascending=False)\n",
    "rfc_model.head(10).plot.barh(figsize=(8,5))\n",
    "plt.gca().invert_yaxis()"
   ]
  },
  {
   "cell_type": "code",
   "execution_count": 191,
   "metadata": {},
   "outputs": [
    {
     "data": {
      "text/plain": [
       "743"
      ]
     },
     "execution_count": 191,
     "metadata": {},
     "output_type": "execute_result"
    }
   ],
   "source": [
    "cv_title = CountVectorizer(ngram_range=(1,1))\n",
    "cv_title.fit(X_train['title'])\n",
    "len(cv_title.get_feature_names())   "
   ]
  },
  {
   "cell_type": "code",
   "execution_count": 192,
   "metadata": {},
   "outputs": [],
   "source": [
    "X_train_title = pd.DataFrame(cv_title.transform(X_train['title']).todense(), \\\n",
    "                            columns=[x+'_title' for x in cv_title.get_feature_names()]) \n",
    "X_test_title = pd.DataFrame(cv_title.transform(X_test['title']).todense(), \\\n",
    "                            columns=[x+'_title' for x in cv_title.get_feature_names()])"
   ]
  },
  {
   "cell_type": "code",
   "execution_count": 193,
   "metadata": {},
   "outputs": [
    {
     "data": {
      "text/plain": [
       "0.9410952112835181"
      ]
     },
     "execution_count": 193,
     "metadata": {},
     "output_type": "execute_result"
    }
   ],
   "source": [
    "rfc = RandomForestClassifier(n_estimators=100)\n",
    "rfc.fit(X_train_title, y_train)\n",
    "desc_pred = rfc.predict(X_test_title)\n",
    "np.mean(cross_val_score(rfc, X_train_title, y_train, cv=3))"
   ]
  },
  {
   "cell_type": "code",
   "execution_count": 194,
   "metadata": {},
   "outputs": [
    {
     "name": "stdout",
     "output_type": "stream",
     "text": [
      "              precision    recall  f1-score   support\n",
      "\n",
      "          SG       0.95      0.94      0.95       268\n",
      "         USA       0.95      0.96      0.95       307\n",
      "\n",
      "   micro avg       0.95      0.95      0.95       575\n",
      "   macro avg       0.95      0.95      0.95       575\n",
      "weighted avg       0.95      0.95      0.95       575\n",
      "\n"
     ]
    }
   ],
   "source": [
    "print(classification_report(y_test,desc_pred))"
   ]
  },
  {
   "cell_type": "code",
   "execution_count": 195,
   "metadata": {},
   "outputs": [
    {
     "data": {
      "image/png": "[encoded data removed]",
      "text/plain": [
       "<Figure size 576x360 with 1 Axes>"
      ]
     },
     "metadata": {
      "image/png": {
       "height": 304,
       "width": 546
      },
      "needs_background": "light"
     },
     "output_type": "display_data"
    }
   ],
   "source": [
    "rfc_model = pd.DataFrame(data=rfc.feature_importances_, index=X_train_title.columns, columns=['beta'])\n",
    "rfc_model = rfc_model[rfc_model['beta'] != 0].sort_values(by='beta', ascending=False)\n",
    "rfc_model.head(10).plot.barh(figsize=(8,5))\n",
    "plt.gca().invert_yaxis()"
   ]
  },
  {
   "cell_type": "code",
   "execution_count": 200,
   "metadata": {},
   "outputs": [
    {
     "data": {
      "text/plain": [
       "1059"
      ]
     },
     "execution_count": 200,
     "metadata": {},
     "output_type": "execute_result"
    }
   ],
   "source": [
    "cv_coy = CountVectorizer(ngram_range=(1,1))\n",
    "cv_coy.fit(X_train['company'])\n",
    "len(cv_coy.get_feature_names())  "
   ]
  },
  {
   "cell_type": "code",
   "execution_count": 204,
   "metadata": {},
   "outputs": [
    {
     "data": {
      "text/plain": [
       "0.9955223756043684"
      ]
     },
     "execution_count": 204,
     "metadata": {},
     "output_type": "execute_result"
    }
   ],
   "source": [
    "X_train_coy = pd.DataFrame(cv_coy.transform(X_train['company']).todense(), \\\n",
    "                            columns=[x+'_coy' for x in cv_coy.get_feature_names()]) \n",
    "X_test_coy = pd.DataFrame(cv_coy.transform(X_test['title']).todense(), \\\n",
    "                            columns=[x+'_coy' for x in cv_coy.get_feature_names()])\n",
    "\n",
    "rfc = RandomForestClassifier(n_estimators=100)\n",
    "rfc.fit(X_train_coy, y_train)\n",
    "coy_pred = rfc.predict(X_test_coy)\n",
    "np.mean(cross_val_score(rfc, X_train_coy, y_train, cv=3))"
   ]
  },
  {
   "cell_type": "code",
   "execution_count": 205,
   "metadata": {},
   "outputs": [
    {
     "name": "stdout",
     "output_type": "stream",
     "text": [
      "              precision    recall  f1-score   support\n",
      "\n",
      "          SG       1.00      0.04      0.08       268\n",
      "         USA       0.54      1.00      0.70       307\n",
      "\n",
      "   micro avg       0.55      0.55      0.55       575\n",
      "   macro avg       0.77      0.52      0.39       575\n",
      "weighted avg       0.76      0.55      0.41       575\n",
      "\n"
     ]
    }
   ],
   "source": [
    "print(classification_report(y_test,coy_pred))"
   ]
  },
  {
   "cell_type": "code",
   "execution_count": 206,
   "metadata": {},
   "outputs": [
    {
     "data": {
      "image/png": "[encoded data removed]",
      "text/plain": [
       "<Figure size 720x432 with 1 Axes>"
      ]
     },
     "metadata": {
      "image/png": {
       "height": 358,
       "width": 663
      },
      "needs_background": "light"
     },
     "output_type": "display_data"
    }
   ],
   "source": [
    "rfc_model = pd.DataFrame(data=rfc.feature_importances_, index=X_train_coy.columns, columns=['beta'])\n",
    "rfc_model = rfc_model[rfc_model['beta'] != 0].sort_values(by='beta', ascending=False)\n",
    "rfc_model.head(20).plot.barh(figsize=(10,6))\n",
    "plt.gca().invert_yaxis()"
   ]
  },
  {
   "cell_type": "markdown",
   "metadata": {},
   "source": [
    "### Combining all"
   ]
  },
  {
   "cell_type": "code",
   "execution_count": 211,
   "metadata": {},
   "outputs": [],
   "source": [
    "X_train_nlp = X_train_desc.join(X_train_title)\n",
    "X_test_nlp = X_test_desc.join(X_test_title)"
   ]
  },
  {
   "cell_type": "code",
   "execution_count": 212,
   "metadata": {},
   "outputs": [],
   "source": [
    "X_train_all = X_train_nlp.join(X_train_coy)\n",
    "X_train_all['avg_salary'] = X_train['avg_salary'].reset_index(drop=True)"
   ]
  },
  {
   "cell_type": "code",
   "execution_count": 214,
   "metadata": {},
   "outputs": [],
   "source": [
    "X_test_all = X_test_nlp.join(X_test_coy)\n",
    "X_test_all['avg_salary'] = X_test['avg_salary'].reset_index(drop=True)"
   ]
  },
  {
   "cell_type": "code",
   "execution_count": 215,
   "metadata": {},
   "outputs": [
    {
     "data": {
      "text/plain": [
       "0.9761338073215463"
      ]
     },
     "execution_count": 215,
     "metadata": {},
     "output_type": "execute_result"
    }
   ],
   "source": [
    "rfc = RandomForestClassifier(n_estimators=100)\n",
    "rfc.fit(X_train_all, y_train)\n",
    "rfc_pred = rfc.predict(X_test_all)\n",
    "np.mean(cross_val_score(rfc, X_train_all, y_train, cv=3))"
   ]
  },
  {
   "cell_type": "code",
   "execution_count": 216,
   "metadata": {},
   "outputs": [
    {
     "name": "stdout",
     "output_type": "stream",
     "text": [
      "              precision    recall  f1-score   support\n",
      "\n",
      "          SG       1.00      0.93      0.97       268\n",
      "         USA       0.94      1.00      0.97       307\n",
      "\n",
      "   micro avg       0.97      0.97      0.97       575\n",
      "   macro avg       0.97      0.97      0.97       575\n",
      "weighted avg       0.97      0.97      0.97       575\n",
      "\n"
     ]
    }
   ],
   "source": [
    "print(classification_report(y_test,rfc_pred))"
   ]
  },
  {
   "cell_type": "code",
   "execution_count": 218,
   "metadata": {},
   "outputs": [
    {
     "data": {
      "image/png": "[encoded data removed]",
      "text/plain": [
       "<Figure size 720x432 with 1 Axes>"
      ]
     },
     "metadata": {
      "image/png": {
       "height": 358,
       "width": 670
      },
      "needs_background": "light"
     },
     "output_type": "display_data"
    }
   ],
   "source": [
    "rfc_model = pd.DataFrame(data=rfc.feature_importances_, index=X_train_all.columns, columns=['beta'])\n",
    "rfc_model = rfc_model[rfc_model['beta'] != 0].sort_values(by='beta', ascending=False)\n",
    "rfc_model.head(20).plot.barh(figsize=(10,6))\n",
    "plt.gca().invert_yaxis()"
   ]
  },
  {
   "cell_type": "markdown",
   "metadata": {},
   "source": [
    "### BONUS PROBLEM\n",
    "\n",
    "Your boss would rather tell a client incorrectly that they would get a lower salary job than tell a client incorrectly that they would get a high salary job. Adjust one of your models to ease his mind, and explain what it is doing and any tradeoffs. Plot the ROC curve.\n",
    "\n",
    "\n"
   ]
  },
  {
   "cell_type": "code",
   "execution_count": 334,
   "metadata": {},
   "outputs": [],
   "source": [
    "# switch to binary class\n",
    "salary_band = []\n",
    "for job in jobs['avg_salary']:\n",
    "    if job > jobs['avg_salary'].mean():\n",
    "        salary_band.append('high')\n",
    "    else:\n",
    "        salary_band.append('low')"
   ]
  },
  {
   "cell_type": "code",
   "execution_count": null,
   "metadata": {},
   "outputs": [],
   "source": [
    "cv_desc = CountVectorizer(ngram_range=(1,1))\n",
    "cv_desc.fit(jobs['desc_nlp'])  \n",
    "X_desc = pd.DataFrame(cv_desc.transform(jobs['desc_nlp']).todense(), \\\n",
    "                            columns=[x+'_desc' for x in cv_desc.get_feature_names()])"
   ]
  },
  {
   "cell_type": "code",
   "execution_count": null,
   "metadata": {},
   "outputs": [],
   "source": [
    "cv_title = TfidfVectorizer(ngram_range=(1,1), max_df=150)\n",
    "cv_title.fit(jobs['title_nlp'])\n",
    "X_title = pd.DataFrame(cv_title.transform(jobs['title_nlp']).todense(), \\\n",
    "                            columns=[x+'_title' for x in cv_title.get_feature_names()]) "
   ]
  },
  {
   "cell_type": "code",
   "execution_count": 291,
   "metadata": {},
   "outputs": [],
   "source": [
    "jobs['state'] = jobs['location'].apply(lambda x: x.split(',')[-1])\n",
    "jobs['state'] = jobs['state'].apply(lambda x : 'Others' if x in minority_states else x)\n",
    "X_cat = pd.DataFrame(labeler.fit_transform(jobs[['site','state']]).toarray(), columns = labeler.categories_[0].tolist() + labeler.categories_[1].tolist())\n"
   ]
  },
  {
   "cell_type": "code",
   "execution_count": 335,
   "metadata": {},
   "outputs": [],
   "source": [
    "X = pd.concat([X_desc, X_title, X_cat], axis=1)\n",
    "y = salary_band\n",
    "X_train, X_test, y_train, y_test = train_test_split(X,y,random_state=42, test_size=0.25)"
   ]
  },
  {
   "cell_type": "code",
   "execution_count": 362,
   "metadata": {},
   "outputs": [
    {
     "data": {
      "text/plain": [
       "0.6871363275145735"
      ]
     },
     "execution_count": 362,
     "metadata": {},
     "output_type": "execute_result"
    }
   ],
   "source": [
    "nb = MultinomialNB()\n",
    "nb.fit(X_train, y_train)\n",
    "nb_pred = nb.predict(X_test)\n",
    "np.mean(cross_val_score(nb, X_train, y_train, cv=3))"
   ]
  },
  {
   "cell_type": "code",
   "execution_count": null,
   "metadata": {},
   "outputs": [],
   "source": []
  },
  {
   "cell_type": "code",
   "execution_count": null,
   "metadata": {},
   "outputs": [],
   "source": []
  },
  {
   "cell_type": "code",
   "execution_count": 363,
   "metadata": {},
   "outputs": [
    {
     "name": "stdout",
     "output_type": "stream",
     "text": [
      "              precision    recall  f1-score   support\n",
      "\n",
      "        high       0.71      0.63      0.67       124\n",
      "         low       0.67      0.75      0.71       127\n",
      "\n",
      "   micro avg       0.69      0.69      0.69       251\n",
      "   macro avg       0.69      0.69      0.69       251\n",
      "weighted avg       0.69      0.69      0.69       251\n",
      "\n"
     ]
    }
   ],
   "source": [
    "print(classification_report(y_test, nb_pred))"
   ]
  },
  {
   "cell_type": "code",
   "execution_count": 359,
   "metadata": {},
   "outputs": [],
   "source": [
    "nb_proba = nb.predict_proba(X_test)\n",
    "threshold = pd.DataFrame(nb_proba, columns=nb.classes_).join(pd.DataFrame(nb_pred, columns =['old_pred']))"
   ]
  },
  {
   "cell_type": "code",
   "execution_count": 378,
   "metadata": {},
   "outputs": [],
   "source": [
    "threshold['new_pred'] = threshold['high'].apply(lambda x: 'high' if x >= 0.75 else 'low')"
   ]
  },
  {
   "cell_type": "code",
   "execution_count": 379,
   "metadata": {},
   "outputs": [
    {
     "data": {
      "text/html": [
       "<div>\n",
       "<style scoped>\n",
       "    .dataframe tbody tr th:only-of-type {\n",
       "        vertical-align: middle;\n",
       "    }\n",
       "\n",
       "    .dataframe tbody tr th {\n",
       "        vertical-align: top;\n",
       "    }\n",
       "\n",
       "    .dataframe thead th {\n",
       "        text-align: right;\n",
       "    }\n",
       "</style>\n",
       "<table border=\"1\" class=\"dataframe\">\n",
       "  <thead>\n",
       "    <tr style=\"text-align: right;\">\n",
       "      <th></th>\n",
       "      <th>high</th>\n",
       "      <th>low</th>\n",
       "      <th>old_pred</th>\n",
       "      <th>new_pred</th>\n",
       "    </tr>\n",
       "  </thead>\n",
       "  <tbody>\n",
       "    <tr>\n",
       "      <th>16</th>\n",
       "      <td>0.721918</td>\n",
       "      <td>0.278082</td>\n",
       "      <td>high</td>\n",
       "      <td>low</td>\n",
       "    </tr>\n",
       "    <tr>\n",
       "      <th>72</th>\n",
       "      <td>0.708118</td>\n",
       "      <td>0.291882</td>\n",
       "      <td>high</td>\n",
       "      <td>low</td>\n",
       "    </tr>\n",
       "  </tbody>\n",
       "</table>\n",
       "</div>"
      ],
      "text/plain": [
       "        high       low old_pred new_pred\n",
       "16  0.721918  0.278082     high      low\n",
       "72  0.708118  0.291882     high      low"
      ]
     },
     "execution_count": 379,
     "metadata": {},
     "output_type": "execute_result"
    }
   ],
   "source": [
    "threshold[threshold['old_pred'] != threshold['new_pred']]"
   ]
  },
  {
   "cell_type": "code",
   "execution_count": 398,
   "metadata": {},
   "outputs": [],
   "source": [
    "y_test_binary = [1 if x == 'high' else 0 for x in y_test]"
   ]
  },
  {
   "cell_type": "code",
   "execution_count": 399,
   "metadata": {
    "scrolled": false
   },
   "outputs": [],
   "source": [
    "fpr, tpr, _ = roc_curve(y_test_binary, nb_proba[:,0])\n",
    "roc_auc = auc(fpr, tpr)"
   ]
  },
  {
   "cell_type": "code",
   "execution_count": 407,
   "metadata": {},
   "outputs": [
    {
     "data": {
      "image/png": "[encoded data removed]",
      "text/plain": [
       "<Figure size 720x432 with 1 Axes>"
      ]
     },
     "metadata": {
      "image/png": {
       "height": 386,
       "width": 610
      },
      "needs_background": "light"
     },
     "output_type": "display_data"
    }
   ],
   "source": [
    "plt.figure(figsize=(10,6))\n",
    "plt.plot(fpr, tpr, label='ROC curve (area = %0.2f)' % roc_auc)\n",
    "plt.ylabel('True Positive Rate')\n",
    "plt.xlabel('False Positive Rate')\n",
    "plt.title('ROC curve')\n",
    "\n",
    "plt.show()"
   ]
  },
  {
   "cell_type": "code",
   "execution_count": null,
   "metadata": {},
   "outputs": [],
   "source": []
  }
 ],
 "metadata": {
  "kernelspec": {
   "display_name": "Python 3",
   "language": "python",
   "name": "python3"
  },
  "language_info": {
   "codemirror_mode": {
    "name": "ipython",
    "version": 3
   },
   "file_extension": ".py",
   "mimetype": "text/x-python",
   "name": "python",
   "nbconvert_exporter": "python",
   "pygments_lexer": "ipython3",
   "version": "3.6.6"
  }
 },
 "nbformat": 4,
 "nbformat_minor": 2
}
